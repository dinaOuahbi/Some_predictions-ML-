{
 "cells": [
  {
   "cell_type": "code",
   "execution_count": 1,
   "id": "d96ac0f0",
   "metadata": {},
   "outputs": [],
   "source": [
    "import numpy as np"
   ]
  },
  {
   "cell_type": "code",
   "execution_count": 2,
   "id": "f30662ec",
   "metadata": {},
   "outputs": [
    {
     "data": {
      "text/plain": [
       "array([[1, 2, 3, 4, 5],\n",
       "       [5, 4, 3, 2, 1]])"
      ]
     },
     "execution_count": 2,
     "metadata": {},
     "output_type": "execute_result"
    }
   ],
   "source": [
    "#numpy table construct\n",
    "a = np.array([[1,2,3,4,5],[5,4,3,2,1]])\n",
    "a"
   ]
  },
  {
   "cell_type": "code",
   "execution_count": 3,
   "id": "88e3ee35",
   "metadata": {},
   "outputs": [
    {
     "data": {
      "text/plain": [
       "dtype('int32')"
      ]
     },
     "execution_count": 3,
     "metadata": {},
     "output_type": "execute_result"
    }
   ],
   "source": [
    "#display type\n",
    "a.dtype"
   ]
  },
  {
   "cell_type": "code",
   "execution_count": 4,
   "id": "339fbf7b",
   "metadata": {},
   "outputs": [
    {
     "data": {
      "text/plain": [
       "numpy.ndarray"
      ]
     },
     "execution_count": 4,
     "metadata": {},
     "output_type": "execute_result"
    }
   ],
   "source": [
    "type(a)"
   ]
  },
  {
   "cell_type": "code",
   "execution_count": 5,
   "id": "c5b33349",
   "metadata": {},
   "outputs": [
    {
     "data": {
      "text/plain": [
       "(2, 5)"
      ]
     },
     "execution_count": 5,
     "metadata": {},
     "output_type": "execute_result"
    }
   ],
   "source": [
    "#NO rows and NO columns\n",
    "a.shape"
   ]
  },
  {
   "cell_type": "code",
   "execution_count": 6,
   "id": "25d3f673",
   "metadata": {},
   "outputs": [
    {
     "data": {
      "text/plain": [
       "10"
      ]
     },
     "execution_count": 6,
     "metadata": {},
     "output_type": "execute_result"
    }
   ],
   "source": [
    "#NO rows * NO columns = size\n",
    "a.size"
   ]
  },
  {
   "cell_type": "code",
   "execution_count": 29,
   "id": "4fb45d19",
   "metadata": {},
   "outputs": [],
   "source": [
    "a = np.array([[1,2,3,4,5,6,7,8,9],[1,2,3,4,5,6,7,8,9]] )"
   ]
  },
  {
   "cell_type": "code",
   "execution_count": 30,
   "id": "f28abb33",
   "metadata": {},
   "outputs": [
    {
     "data": {
      "text/plain": [
       "array([[ 1,  2, 10,  4,  5,  6,  7,  8,  9],\n",
       "       [ 1,  2, 10,  4,  5,  6,  7,  8,  9]])"
      ]
     },
     "execution_count": 30,
     "metadata": {},
     "output_type": "execute_result"
    }
   ],
   "source": [
    "a[:, 2] = 10\n",
    "a"
   ]
  },
  {
   "cell_type": "code",
   "execution_count": 9,
   "id": "13f52506",
   "metadata": {},
   "outputs": [],
   "source": [
    "np.savetxt('test.csv', a, fmt = '%.1f', delimiter = ',')"
   ]
  },
  {
   "cell_type": "code",
   "execution_count": 10,
   "id": "1d84cc66",
   "metadata": {},
   "outputs": [
    {
     "data": {
      "text/plain": [
       "'C:\\\\Users\\\\dina ouahbi'"
      ]
     },
     "execution_count": 10,
     "metadata": {},
     "output_type": "execute_result"
    }
   ],
   "source": [
    "import os\n",
    "os.getcwd()"
   ]
  },
  {
   "cell_type": "code",
   "execution_count": 11,
   "id": "fa8e803b",
   "metadata": {},
   "outputs": [
    {
     "data": {
      "text/plain": [
       "array([0, 1, 2, 3, 4, 5, 6, 7, 8, 9])"
      ]
     },
     "execution_count": 11,
     "metadata": {},
     "output_type": "execute_result"
    }
   ],
   "source": [
    "a = np.arange(10)\n",
    "a"
   ]
  },
  {
   "cell_type": "code",
   "execution_count": 25,
   "id": "8db66b49",
   "metadata": {},
   "outputs": [],
   "source": [
    "ls = np.linspace(1, 4, 100)"
   ]
  },
  {
   "cell_type": "markdown",
   "id": "62df9280",
   "metadata": {},
   "source": [
    "# CONDITIONAL STRUCTUR\n"
   ]
  },
  {
   "cell_type": "code",
   "execution_count": 13,
   "id": "fa835f11",
   "metadata": {},
   "outputs": [
    {
     "name": "stdout",
     "output_type": "stream",
     "text": [
      "enter marks : 64\n",
      "Bellow average\n"
     ]
    }
   ],
   "source": [
    "a = int(input('enter marks : '))\n",
    "if a>= 85:\n",
    "    print(\"A Grade\")\n",
    "elif a < 85 and a>=80:\n",
    "    print(\"A-Grade\")\n",
    "elif a < 80 and a>=75:\n",
    "    print(\"B-Grade\")\n",
    "elif a < 75 and a>=70:\n",
    "    print(\"B-Grade\")\n",
    "else:\n",
    "    print(\"Bellow average\")"
   ]
  },
  {
   "cell_type": "code",
   "execution_count": 14,
   "id": "5c731170",
   "metadata": {},
   "outputs": [
    {
     "name": "stdout",
     "output_type": "stream",
     "text": [
      "<10\n"
     ]
    }
   ],
   "source": [
    "a=3\n",
    "if a>10:\n",
    "    print(\">10\")\n",
    "elif not a>10:\n",
    "    print(\"<10\")"
   ]
  },
  {
   "cell_type": "markdown",
   "id": "c4a41403",
   "metadata": {},
   "source": [
    "# nested if\n"
   ]
  },
  {
   "cell_type": "code",
   "execution_count": 19,
   "id": "29a4d2db",
   "metadata": {},
   "outputs": [
    {
     "name": "stdout",
     "output_type": "stream",
     "text": [
      "Enter your integer number please : 24\n",
      "above 10 / inside the top if\n",
      "and above 20 / inside the nested if\n",
      "outside the ifs\n"
     ]
    }
   ],
   "source": [
    "x = int(input(\"Enter your integer number please : \"))\n",
    "if x>10:\n",
    "    print(\"above 10 / inside the top if\")\n",
    "    if x>20:\n",
    "        print(\"and above 20 / inside the nested if\")\n",
    "        if x>30:\n",
    "            print(\"and above 30 / inside the nested if\")\n",
    "    else:\n",
    "        print(\"but not above 20, noor 30\")         \n",
    "print(\"outside the ifs\")"
   ]
  },
  {
   "cell_type": "code",
   "execution_count": 20,
   "id": "f8b9f9f6",
   "metadata": {},
   "outputs": [
    {
     "data": {
      "text/plain": [
       "'\\nmultiline comment  \\n\\n'"
      ]
     },
     "execution_count": 20,
     "metadata": {},
     "output_type": "execute_result"
    }
   ],
   "source": [
    "\"\"\"\n",
    "multiline comment  \n",
    "\n",
    "\"\"\""
   ]
  },
  {
   "cell_type": "markdown",
   "id": "5b517e3c",
   "metadata": {},
   "source": [
    "# user enter float, i will return the integer portion before the flot number"
   ]
  },
  {
   "cell_type": "code",
   "execution_count": 24,
   "id": "f19afd00",
   "metadata": {},
   "outputs": [
    {
     "name": "stdout",
     "output_type": "stream",
     "text": [
      "float number ? -87.3\n",
      "-87\n"
     ]
    }
   ],
   "source": [
    "x = float(input(\"float number ? \"))\n",
    "y = round(x)\n",
    "if x>0:\n",
    "    if x>y:\n",
    "        integPortion = y - 1\n",
    "    else:\n",
    "        integPortion = y\n",
    "else:\n",
    "    if y<x:\n",
    "        integPortion = y+1\n",
    "    else:\n",
    "        integPortion = y\n",
    "print(integPortion)\n"
   ]
  },
  {
   "cell_type": "markdown",
   "id": "4ca799de",
   "metadata": {},
   "source": [
    "# LOOPS\n"
   ]
  },
  {
   "cell_type": "code",
   "execution_count": 5,
   "id": "e0eda174",
   "metadata": {},
   "outputs": [
    {
     "name": "stdout",
     "output_type": "stream",
     "text": [
      "enter x : 3\n",
      "1\n",
      "this is iterateion number : 1\n",
      "4\n",
      "this is iterateion number : 2\n",
      "loop done\n"
     ]
    }
   ],
   "source": [
    "x = int(input(\"enter x : \"))\n",
    "i = 1\n",
    "while i<x:\n",
    "    print(i**2)\n",
    "    print(\"this is iterateion number : {}\".format(i))\n",
    "    i+=1\n",
    "print(\"loop done\")"
   ]
  },
  {
   "cell_type": "code",
   "execution_count": 6,
   "id": "ab4513f4",
   "metadata": {},
   "outputs": [
    {
     "name": "stdout",
     "output_type": "stream",
     "text": [
      "enter x : 10\n",
      "2\n",
      "4\n",
      "6\n",
      "8\n",
      "loop done\n"
     ]
    }
   ],
   "source": [
    "#print the pair value \n",
    "x = int(input(\"enter x : \"))\n",
    "i = 1\n",
    "while i<x:\n",
    "    if i%2==0:\n",
    "        print(i)\n",
    "    else:\n",
    "        pass\n",
    "    i+=1\n",
    "print(\"loop done\")"
   ]
  },
  {
   "cell_type": "code",
   "execution_count": 14,
   "id": "a9d8251a",
   "metadata": {},
   "outputs": [
    {
     "name": "stdout",
     "output_type": "stream",
     "text": [
      "1 inside else\n",
      "2 inside else\n",
      "3 inside else\n",
      "4 inside else\n",
      "break\n",
      "done\n"
     ]
    }
   ],
   "source": [
    "#while loop with conditions\n",
    "i = 1\n",
    "while True:\n",
    "    if i%5 == 0:\n",
    "        print(\"break\")\n",
    "        break\n",
    "    else:\n",
    "        print(i,\"inside else\")\n",
    "        i+=1\n",
    "        continue\n",
    "    print(\"inside loop\")\n",
    "print(\"done\")"
   ]
  },
  {
   "cell_type": "code",
   "execution_count": 20,
   "id": "48474c68",
   "metadata": {},
   "outputs": [
    {
     "name": "stdout",
     "output_type": "stream",
     "text": [
      "[0, 2, 4, 6, 8]\n",
      "[0, 4, 16, 36, 64]\n"
     ]
    }
   ],
   "source": [
    "#for loop \n",
    "l1 =[]\n",
    "l2 = []\n",
    "for i in range(0,10,2):\n",
    "    l1.append(i)\n",
    "    l2.append(i**2)\n",
    "print(l1)\n",
    "print(l2)"
   ]
  },
  {
   "cell_type": "code",
   "execution_count": 29,
   "id": "168cddd7",
   "metadata": {},
   "outputs": [
    {
     "name": "stdout",
     "output_type": "stream",
     "text": [
      "   dina\n",
      "|-------|\n",
      "   2\n",
      "|-------|\n",
      "   apple\n",
      "|-------|\n",
      "loop done\n"
     ]
    }
   ],
   "source": [
    "#else in for loop \n",
    "s = {\"apple\", 2,\"dina\"}\n",
    "for x in s:\n",
    "    print(\"  \",x)\n",
    "    print(\"|-------|\")\n",
    "else:\n",
    "    print('loop done')"
   ]
  },
  {
   "cell_type": "code",
   "execution_count": 33,
   "id": "7c900926",
   "metadata": {},
   "outputs": [
    {
     "name": "stdout",
     "output_type": "stream",
     "text": [
      "Name ================> dina\n",
      "Age ================> 25\n",
      "Sex ================> F\n"
     ]
    }
   ],
   "source": [
    "#loop for with dictionary\n",
    "dic = {\"Name\":\"dina\", \"Age\":25, \"Sex\":\"F\"}\n",
    "for x in dic:\n",
    "    print(x,\"================>\",dic[x])"
   ]
  },
  {
   "cell_type": "code",
   "execution_count": null,
   "id": "d29e626b",
   "metadata": {},
   "outputs": [],
   "source": [
    "L = [1,2,4,-5,7,9,3,2]\n",
    "Lmin = []\n",
    "c = 0\n",
    "m = L[0]\n",
    "while c<len(L):\n",
    "    for i in L:\n",
    "        if i<m:\n",
    "            m=i\n",
    "            Lmin.append(m)\n",
    "            c+=1\n",
    "print(Lmin)"
   ]
  },
  {
   "cell_type": "markdown",
   "id": "ba073928",
   "metadata": {},
   "source": [
    "# FUNCTIONS"
   ]
  },
  {
   "cell_type": "code",
   "execution_count": 2,
   "id": "fac64155",
   "metadata": {},
   "outputs": [],
   "source": [
    "def printSuccess():\n",
    "    \"\"\"this function is doing nothing except printing a message.\n",
    "    that msg is \"hello\"\n",
    "    \"\"\"\n",
    "    print(\"Hello\")"
   ]
  },
  {
   "cell_type": "code",
   "execution_count": 4,
   "id": "923b627b",
   "metadata": {},
   "outputs": [],
   "source": [
    "#gives a docSTRING about this function\n",
    "printSuccess?"
   ]
  },
  {
   "cell_type": "code",
   "execution_count": 10,
   "id": "a76b1748",
   "metadata": {},
   "outputs": [
    {
     "name": "stdout",
     "output_type": "stream",
     "text": [
      "Help on function printSuccess in module __main__:\n",
      "\n",
      "printSuccess()\n",
      "    this function is doing nothing except printing a message.\n",
      "    that msg is \"hello\"\n",
      "\n"
     ]
    }
   ],
   "source": [
    "#tel us hat the function is doing\n",
    "help(printSuccess)"
   ]
  },
  {
   "cell_type": "code",
   "execution_count": 21,
   "id": "38cc8592",
   "metadata": {},
   "outputs": [],
   "source": [
    "#function with argument\n",
    "def printMsg(msg):\n",
    "    \"\"\"this function print a specfic msg\"\"\"\n",
    "    if isinstance(msg,str):\n",
    "        print(msg)\n",
    "    else:\n",
    "        print(\"your input arg is not a string, : {}\".format(msg))"
   ]
  },
  {
   "cell_type": "code",
   "execution_count": 22,
   "id": "9261c264",
   "metadata": {},
   "outputs": [
    {
     "name": "stdout",
     "output_type": "stream",
     "text": [
      "hello, i'm Dina and welcom to my Basic Python Tutorial\n"
     ]
    }
   ],
   "source": [
    "printMsg(\"hello, i\\'m Dina and welcom to my Basic Python Tutorial\")"
   ]
  },
  {
   "cell_type": "code",
   "execution_count": 23,
   "id": "488ba28a",
   "metadata": {},
   "outputs": [
    {
     "name": "stdout",
     "output_type": "stream",
     "text": [
      "your input arg is not a string, : 123456\n"
     ]
    }
   ],
   "source": [
    "printMsg(123456)"
   ]
  },
  {
   "cell_type": "code",
   "execution_count": 24,
   "id": "e95138b7",
   "metadata": {},
   "outputs": [
    {
     "name": "stdout",
     "output_type": "stream",
     "text": [
      "Help on function printMsg in module __main__:\n",
      "\n",
      "printMsg(msg)\n",
      "    this function print a specfic msg\n",
      "\n"
     ]
    }
   ],
   "source": [
    "help(printMsg)"
   ]
  },
  {
   "cell_type": "code",
   "execution_count": 26,
   "id": "2b6b2d92",
   "metadata": {},
   "outputs": [],
   "source": [
    "#with more than one arg \n",
    "def myPow(x,y):\n",
    "    \"\"\"this function calculate the power just like builtin pow function \"\"\"\n",
    "    return x**y"
   ]
  },
  {
   "cell_type": "code",
   "execution_count": 28,
   "id": "34e0e2e0",
   "metadata": {},
   "outputs": [
    {
     "data": {
      "text/plain": [
       "81"
      ]
     },
     "execution_count": 28,
     "metadata": {},
     "output_type": "execute_result"
    }
   ],
   "source": [
    "myPow(3,4)"
   ]
  },
  {
   "cell_type": "code",
   "execution_count": 29,
   "id": "40547fb1",
   "metadata": {},
   "outputs": [],
   "source": [
    "#this function takes tree arguments\n",
    "def chekVal(a,b,c):\n",
    "    if isinstance(a, (int,float)) and isinstance(b, (int,float)) and isinstance(c, (int,float)):\n",
    "        print((a+b+c)**2)\n",
    "    else:\n",
    "        print(\"Error\")\n",
    "    "
   ]
  },
  {
   "cell_type": "code",
   "execution_count": 33,
   "id": "a4dc8dba",
   "metadata": {},
   "outputs": [
    {
     "name": "stdout",
     "output_type": "stream",
     "text": [
      "Error\n",
      "196\n"
     ]
    }
   ],
   "source": [
    "chekVal(\"ff\",4,5)\n",
    "chekVal(5,4,5)"
   ]
  },
  {
   "cell_type": "code",
   "execution_count": 1,
   "id": "7bb8061f",
   "metadata": {},
   "outputs": [
    {
     "name": "stdout",
     "output_type": "stream",
     "text": [
      "hello\n"
     ]
    }
   ],
   "source": [
    "print(\"hello\")"
   ]
  },
  {
   "cell_type": "code",
   "execution_count": 2,
   "id": "01e8c534",
   "metadata": {},
   "outputs": [],
   "source": [
    "#arg is  list as default values\n",
    "def ff(L=[1,2,3]):\n",
    "    for i in L:\n",
    "        print(i)\n",
    "    "
   ]
  },
  {
   "cell_type": "code",
   "execution_count": 5,
   "id": "16b0e40a",
   "metadata": {},
   "outputs": [],
   "source": [
    "/#function with variable names and values \n",
    "def printAllVariableAndValues(**args):\n",
    "    for x in args:\n",
    "        print(\"Variable names is {} and value is {}\".format(x,args[x]))\n"
   ]
  },
  {
   "cell_type": "code",
   "execution_count": 6,
   "id": "4b2fac7b",
   "metadata": {},
   "outputs": [
    {
     "name": "stdout",
     "output_type": "stream",
     "text": [
      "Variable names is a and value is 3\n",
      "Variable names is b and value is b\n",
      "Variable names is c and value is ccc\n",
      "Variable names is y and value is 6.7\n"
     ]
    }
   ],
   "source": [
    "printAllVariableAndValues(a=3,b='b',c='ccc',y=6.7)"
   ]
  },
  {
   "cell_type": "markdown",
   "id": "662423f7",
   "metadata": {},
   "source": [
    "# MODULES SYS\n"
   ]
  },
  {
   "cell_type": "code",
   "execution_count": 17,
   "id": "408dc128",
   "metadata": {},
   "outputs": [],
   "source": [
    "def sumFunction(*args):\n",
    "    sum = 0\n",
    "    for i in range(len(args)):\n",
    "        sum +=args[i]\n",
    "    print(\"la somme est {}\".format(sum))"
   ]
  },
  {
   "cell_type": "code",
   "execution_count": 19,
   "id": "442f6c88",
   "metadata": {},
   "outputs": [
    {
     "name": "stdout",
     "output_type": "stream",
     "text": [
      "la somme est 53\n"
     ]
    }
   ],
   "source": [
    "sumFunction(1,2,3,4,5,6,7,8,8,9)"
   ]
  },
  {
   "cell_type": "code",
   "execution_count": 12,
   "id": "6a62a01c",
   "metadata": {},
   "outputs": [
    {
     "name": "stdout",
     "output_type": "stream",
     "text": [
      "utf-8\n",
      "utf-8\n",
      "3.8.8 (default, Apr 13 2021, 15:08:03) [MSC v.1916 64 bit (AMD64)]\n",
      "Copyright (c) 2001-2021 Python Software Foundation.\n",
      "All Rights Reserved.\n",
      "\n",
      "Copyright (c) 2000 BeOpen.com.\n",
      "All Rights Reserved.\n",
      "\n",
      "Copyright (c) 1995-2001 Corporation for National Research Initiatives.\n",
      "All Rights Reserved.\n",
      "\n",
      "Copyright (c) 1991-1995 Stichting Mathematisch Centrum, Amsterdam.\n",
      "All Rights Reserved.\n",
      "C:\\Users\\dina ouahbi\\anaconda3\\python.exe\n"
     ]
    }
   ],
   "source": [
    "#make the modules (sys = system)\n",
    "import sys\n",
    "print(sys.getdefaultencoding())\n",
    "print(sys.getfilesystemencoding())\n",
    "print(sys.version)\n",
    "print(sys.copyright)\n",
    "print(sys.executable)"
   ]
  },
  {
   "cell_type": "code",
   "execution_count": 23,
   "id": "b09584b2",
   "metadata": {},
   "outputs": [
    {
     "name": "stdout",
     "output_type": "stream",
     "text": [
      "====> _abc\n",
      "====> _ast\n",
      "====> _bisect\n",
      "====> _blake2\n",
      "====> _codecs\n",
      "====> _codecs_cn\n",
      "====> _codecs_hk\n",
      "====> _codecs_iso2022\n",
      "====> _codecs_jp\n",
      "====> _codecs_kr\n"
     ]
    }
   ],
   "source": [
    "tup = sys.builtin_module_names\n",
    "for i in tup[:10]:\n",
    "    print('====>',i)"
   ]
  },
  {
   "cell_type": "code",
   "execution_count": 27,
   "id": "25e4ded1",
   "metadata": {},
   "outputs": [
    {
     "name": "stdout",
     "output_type": "stream",
     "text": [
      "['C:\\\\Users\\\\dina ouahbi\\\\anaconda3\\\\lib\\\\site-packages\\\\ipykernel_launcher.py', '-f', 'C:\\\\Users\\\\dina ouahbi\\\\AppData\\\\Roaming\\\\jupyter\\\\runtime\\\\kernel-44b8b8a6-8b25-448e-a689-a1bd131714e3.json']\n",
      "9223372036854775807\n",
      "['C:\\\\Users\\\\dina ouahbi', 'C:\\\\Users\\\\dina ouahbi\\\\anaconda3\\\\python38.zip', 'C:\\\\Users\\\\dina ouahbi\\\\anaconda3\\\\DLLs', 'C:\\\\Users\\\\dina ouahbi\\\\anaconda3\\\\lib', 'C:\\\\Users\\\\dina ouahbi\\\\anaconda3']\n"
     ]
    }
   ],
   "source": [
    "print(sys.argv)\n",
    "#the largest integer a variable can take.\n",
    "print(sys.maxsize)\n",
    "#path for all Python modules\n",
    "print(sys.path[:5])"
   ]
  },
  {
   "cell_type": "code",
   "execution_count": null,
   "id": "afb39faa",
   "metadata": {},
   "outputs": [],
   "source": []
  },
  {
   "cell_type": "code",
   "execution_count": null,
   "id": "420c4401",
   "metadata": {},
   "outputs": [],
   "source": []
  },
  {
   "cell_type": "code",
   "execution_count": null,
   "id": "911f7771",
   "metadata": {},
   "outputs": [],
   "source": []
  },
  {
   "cell_type": "code",
   "execution_count": null,
   "id": "601b2a4d",
   "metadata": {},
   "outputs": [],
   "source": []
  }
 ],
 "metadata": {
  "kernelspec": {
   "display_name": "Python 3",
   "language": "python",
   "name": "python3"
  },
  "language_info": {
   "codemirror_mode": {
    "name": "ipython",
    "version": 3
   },
   "file_extension": ".py",
   "mimetype": "text/x-python",
   "name": "python",
   "nbconvert_exporter": "python",
   "pygments_lexer": "ipython3",
   "version": "3.8.8"
  }
 },
 "nbformat": 4,
 "nbformat_minor": 5
}
