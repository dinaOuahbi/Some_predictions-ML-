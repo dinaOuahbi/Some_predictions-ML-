{
 "cells": [
  {
   "cell_type": "code",
   "execution_count": 1,
   "id": "85183fc7",
   "metadata": {},
   "outputs": [],
   "source": [
    "def check(**args):\n",
    "    \"\"\" check if the variable is not a number \"\"\"\n",
    "    for x in args:\n",
    "        if not (isinstance(x, (int,float))):\n",
    "            return False\n",
    "    return True "
   ]
  },
  {
   "cell_type": "code",
   "execution_count": 5,
   "id": "77c467c6",
   "metadata": {},
   "outputs": [],
   "source": [
    "def addNumerics(*args):\n",
    "    sum = 0\n",
    "    for i in range(len(args)):\n",
    "        sum +=args[i]\n",
    "    print(\"la somme est {}\".format(sum))"
   ]
  },
  {
   "cell_type": "code",
   "execution_count": null,
   "id": "acf7827b",
   "metadata": {},
   "outputs": [],
   "source": []
  }
 ],
 "metadata": {
  "kernelspec": {
   "display_name": "Python 3",
   "language": "python",
   "name": "python3"
  },
  "language_info": {
   "codemirror_mode": {
    "name": "ipython",
    "version": 3
   },
   "file_extension": ".py",
   "mimetype": "text/x-python",
   "name": "python",
   "nbconvert_exporter": "python",
   "pygments_lexer": "ipython3",
   "version": "3.8.8"
  }
 },
 "nbformat": 4,
 "nbformat_minor": 5
}
