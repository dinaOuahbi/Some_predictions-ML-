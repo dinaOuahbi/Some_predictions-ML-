{
 "cells": [
  {
   "cell_type": "code",
   "execution_count": 23,
   "id": "ce91f8c9",
   "metadata": {},
   "outputs": [],
   "source": [
    "import pandas as pd\n",
    "import matplotlib.pyplot as plt\n",
    "from sklearn.linear_model import LinearRegression\n",
    "from sklearn.metrics import r2_score"
   ]
  },
  {
   "cell_type": "code",
   "execution_count": 39,
   "id": "b7ebe037",
   "metadata": {},
   "outputs": [
    {
     "data": {
      "text/html": [
       "<div>\n",
       "<style scoped>\n",
       "    .dataframe tbody tr th:only-of-type {\n",
       "        vertical-align: middle;\n",
       "    }\n",
       "\n",
       "    .dataframe tbody tr th {\n",
       "        vertical-align: top;\n",
       "    }\n",
       "\n",
       "    .dataframe thead th {\n",
       "        text-align: right;\n",
       "    }\n",
       "</style>\n",
       "<table border=\"1\" class=\"dataframe\">\n",
       "  <thead>\n",
       "    <tr style=\"text-align: right;\">\n",
       "      <th></th>\n",
       "      <th>Year</th>\n",
       "      <th>Land_Annual</th>\n",
       "    </tr>\n",
       "  </thead>\n",
       "  <tbody>\n",
       "    <tr>\n",
       "      <th>0</th>\n",
       "      <td>1880</td>\n",
       "      <td>-0.62</td>\n",
       "    </tr>\n",
       "    <tr>\n",
       "      <th>1</th>\n",
       "      <td>1881</td>\n",
       "      <td>-0.41</td>\n",
       "    </tr>\n",
       "    <tr>\n",
       "      <th>2</th>\n",
       "      <td>1882</td>\n",
       "      <td>-0.50</td>\n",
       "    </tr>\n",
       "    <tr>\n",
       "      <th>3</th>\n",
       "      <td>1883</td>\n",
       "      <td>-0.59</td>\n",
       "    </tr>\n",
       "    <tr>\n",
       "      <th>4</th>\n",
       "      <td>1884</td>\n",
       "      <td>-0.86</td>\n",
       "    </tr>\n",
       "  </tbody>\n",
       "</table>\n",
       "</div>"
      ],
      "text/plain": [
       "   Year  Land_Annual\n",
       "0  1880        -0.62\n",
       "1  1881        -0.41\n",
       "2  1882        -0.50\n",
       "3  1883        -0.59\n",
       "4  1884        -0.86"
      ]
     },
     "execution_count": 39,
     "metadata": {},
     "output_type": "execute_result"
    }
   ],
   "source": [
    "df = pd.read_csv('graph.csv', sep=';')\n",
    "df.head()"
   ]
  },
  {
   "cell_type": "code",
   "execution_count": 33,
   "id": "135e0778",
   "metadata": {},
   "outputs": [
    {
     "data": {
      "text/plain": [
       "'C:\\\\Users\\\\dina ouahbi'"
      ]
     },
     "execution_count": 33,
     "metadata": {},
     "output_type": "execute_result"
    }
   ],
   "source": [
    "import os\n",
    "os.getcwd()"
   ]
  },
  {
   "cell_type": "code",
   "execution_count": 34,
   "id": "92157914",
   "metadata": {},
   "outputs": [],
   "source": [
    "df.reset_index(drop=True, inplace=True)"
   ]
  },
  {
   "cell_type": "code",
   "execution_count": 40,
   "id": "a0bbe0fa",
   "metadata": {},
   "outputs": [
    {
     "data": {
      "text/plain": [
       "Text(0.5, 1.0, 'variation de Temperature')"
      ]
     },
     "execution_count": 40,
     "metadata": {},
     "output_type": "execute_result"
    },
    {
     "data": {
      "image/png": "[encoded data removed]",
      "text/plain": [
       "<Figure size 432x288 with 1 Axes>"
      ]
     },
     "metadata": {
      "needs_background": "light"
     },
     "output_type": "display_data"
    }
   ],
   "source": [
    "X = df.iloc[:,:-1].values\n",
    "y = df.iloc[:,-1].values\n",
    "plt.scatter(x,y,color='red')\n",
    "plt.title('variation de Temperature')"
   ]
  },
  {
   "cell_type": "code",
   "execution_count": 41,
   "id": "c7e2fded",
   "metadata": {},
   "outputs": [],
   "source": [
    "#surnomer le model\n",
    "model1 = LinearRegression()"
   ]
  },
  {
   "cell_type": "code",
   "execution_count": 42,
   "id": "2a158205",
   "metadata": {},
   "outputs": [
    {
     "data": {
      "text/plain": [
       "LinearRegression()"
      ]
     },
     "execution_count": 42,
     "metadata": {},
     "output_type": "execute_result"
    }
   ],
   "source": [
    "#entrainer le model\n",
    "model1.fit(X, y)"
   ]
  },
  {
   "cell_type": "code",
   "execution_count": 43,
   "id": "fa3f76b7",
   "metadata": {},
   "outputs": [],
   "source": [
    "#tester le model sur les donner X \n",
    "y_pred = model1.predict(X)"
   ]
  },
  {
   "cell_type": "code",
   "execution_count": null,
   "id": "c5024561",
   "metadata": {},
   "outputs": [],
   "source": []
  },
  {
   "cell_type": "code",
   "execution_count": 51,
   "id": "54855505",
   "metadata": {},
   "outputs": [],
   "source": [
    "#transformation en format liste\n",
    "y = list(y)\n",
    "y_pred = list(y_pred)"
   ]
  },
  {
   "cell_type": "code",
   "execution_count": 55,
   "id": "291eaa84",
   "metadata": {},
   "outputs": [
    {
     "data": {
      "text/plain": [
       "{(-0.86, -0.6297571383886691),\n",
       " (-0.74, -0.6188621475490415),\n",
       " (-0.66, -0.5970721658697897),\n",
       " (-0.65, -0.2702224406809961),\n",
       " (-0.62, -0.6733371017471725),\n",
       " (-0.59, -0.6406521292282932),\n",
       " (-0.58, -0.6079671567094138),\n",
       " (-0.57, -0.3791723490772583),\n",
       " (-0.54, -0.5643871933509104),\n",
       " (-0.53, -0.5861771750301621),\n",
       " (-0.53, -0.531702220832031),\n",
       " (-0.51, -0.5425972116716551),\n",
       " (-0.5, -0.6515471200679208),\n",
       " (-0.48, -0.25932744984136846),\n",
       " (-0.46, -0.3246973948791272),\n",
       " (-0.45, -0.5534922025112827),\n",
       " (-0.45, -0.2811174315206202),\n",
       " (-0.45, -0.13948255060547865),\n",
       " (-0.42, -0.3355923857187548),\n",
       " (-0.41, -0.6624421109075449),\n",
       " (-0.41, -0.5208072299924034),\n",
       " (-0.41, -0.41185732159613764),\n",
       " (-0.41, -0.35738236739800655),\n",
       " (-0.4, -0.5099122391527757),\n",
       " (-0.38, 0.15468220206443561),\n",
       " (-0.37, -0.49901724831315164),\n",
       " (-0.37, -0.3682773582376342),\n",
       " (-0.35, -0.3464873765583789),\n",
       " (-0.33, -0.23753746816211674),\n",
       " (-0.31, -0.24843245900174082),\n",
       " (-0.3, -0.47722726663389636),\n",
       " (-0.29, -0.09590258724697165),\n",
       " (-0.29, 0.08931225702667689),\n",
       " (-0.28, -0.31380240403949955),\n",
       " (-0.27, -0.5752821841905345),\n",
       " (-0.27, 0.24184212878144606),\n",
       " (-0.26, -0.4336473032753929),\n",
       " (-0.26, -0.4227523124357653),\n",
       " (-0.25, -0.21574748648286146),\n",
       " (-0.25, 0.3725820188569635),\n",
       " (-0.22, -0.20485249564323738),\n",
       " (-0.21, -0.40096233075651355),\n",
       " (-0.21, -0.19395750480360974),\n",
       " (-0.2, -0.488122257473524),\n",
       " (-0.17, -0.16127253228473037),\n",
       " (-0.15, 0.32900205549846007),\n",
       " (-0.14, -0.4663322757942723),\n",
       " (-0.14, 0.2527371196210737),\n",
       " (-0.14, 0.28542209213995307),\n",
       " (-0.13, -0.07411260556771992),\n",
       " (-0.13, 0.2963170829795807),\n",
       " (-0.12, -0.3900673399168859),\n",
       " (-0.12, 0.3507920371777118),\n",
       " (-0.11, -0.1830625139639821),\n",
       " (-0.11, 0.1328922203851839),\n",
       " (-0.1, 0.0348373028285458),\n",
       " (-0.09, 0.10020724786630453),\n",
       " (-0.09, 0.19826216542294262),\n",
       " (-0.08, -0.06321761472809229),\n",
       " (-0.07, -0.2920124223602478),\n",
       " (-0.07, 0.14378721122480798),\n",
       " (-0.06, -0.2266424773224891),\n",
       " (-0.06, 0.26363211046070134),\n",
       " (-0.05, -0.128587559765851),\n",
       " (-0.05, 0.07841726618704925),\n",
       " (-0.04, -0.444542294115017),\n",
       " (-0.04, -0.15037754144510274),\n",
       " (-0.03, -0.30290741319987546),\n",
       " (-0.03, 0.31810706465883243),\n",
       " (-0.02, 0.11110223870592861),\n",
       " (-0.01, -0.45543728495464464),\n",
       " (0.01, 0.04573229366817344),\n",
       " (0.01, 0.16557719290406325),\n",
       " (0.02, -0.05232262388846465),\n",
       " (0.02, 0.2745271013003254),\n",
       " (0.03, -0.172167523124358),\n",
       " (0.03, -0.08500759640734401),\n",
       " (0.04, -0.10679757808659929),\n",
       " (0.04, 0.3072120738192048),\n",
       " (0.05, 0.18736717458331498),\n",
       " (0.06, 0.0021523303096664392),\n",
       " (0.06, 0.3943720005362188),\n",
       " (0.06, 0.4706369364136016),\n",
       " (0.07, -0.11769256892622337),\n",
       " (0.07, 0.06752227534742516),\n",
       " (0.07, 0.43795196389472224),\n",
       " (0.08, 0.22005214710219434),\n",
       " (0.09, 0.013047321149294078),\n",
       " (0.09, 0.4597419455739775),\n",
       " (0.1, -0.019637651369585285),\n",
       " (0.1, 0.17647218374368734),\n",
       " (0.11, 0.056627284507797526),\n",
       " (0.12, -0.0087426605299612),\n",
       " (0.12, 0.4052669913758429),\n",
       " (0.14, 0.2091571562625667),\n",
       " (0.14, 0.36168702801733943),\n",
       " (0.16, -0.030532642209212923),\n",
       " (0.16, 0.23094713794182198),\n",
       " (0.17, 0.023942311988918163),\n",
       " (0.23, -0.04142763304884056),\n",
       " (0.23, 0.12199722954555625),\n",
       " (0.23, 0.5577968631306156),\n",
       " (0.24, 0.38347700969659115),\n",
       " (0.25, 0.546901872290988),\n",
       " (0.26, 0.48153192725322924),\n",
       " (0.31, 0.33989704633808415),\n",
       " (0.34, 0.4161619822154705),\n",
       " (0.34, 0.5142168997721086),\n",
       " (0.39, 0.4924269180928569),\n",
       " (0.4, 0.590481835649495),\n",
       " (0.43, 0.4488469547343499),\n",
       " (0.46, 0.5686918539702397),\n",
       " (0.53, 0.42705697305509815),\n",
       " (0.58, 0.5360068814513603),\n",
       " (0.6, 0.601376826489119),\n",
       " (0.61, 0.503321908932481),\n",
       " (0.63, 0.6340617990079984),\n",
       " (0.67, 0.5251118906117362),\n",
       " (0.7, 0.6231668081683743),\n",
       " (0.75, 0.5795868448098673),\n",
       " (0.79, 0.6776417623665054),\n",
       " (0.82, 0.644956789847626),\n",
       " (0.89, 0.7212217257250124),\n",
       " (0.93, 0.6122718173287467),\n",
       " (0.94, 0.6667467715268778),\n",
       " (0.96, 0.6994317440457571),\n",
       " (0.96, 0.7321167165646365),\n",
       " (0.96, 0.7539066982438918),\n",
       " (0.97, 0.7648016890835159),\n",
       " (0.99, 0.6558517806872537),\n",
       " (1.03, 0.7865916707627711),\n",
       " (1.08, 0.7756966799231435),\n",
       " (1.11, 0.6885367532061331),\n",
       " (1.13, 0.7430117074042641),\n",
       " (1.19, 0.7103267348853848),\n",
       " (1.22, 0.8301716341212746),\n",
       " (1.32, 0.7974866616023952),\n",
       " (1.38, 0.819276643281647),\n",
       " (1.48, 0.8083816524420229)}"
      ]
     },
     "execution_count": 55,
     "metadata": {},
     "output_type": "execute_result"
    }
   ],
   "source": [
    "#ziper y et y_pred pour pouvoir facilement les comparer\n",
    "merge =set(zip(y, y_pred))\n",
    "merge\n"
   ]
  },
  {
   "cell_type": "code",
   "execution_count": 57,
   "id": "34f6239f",
   "metadata": {},
   "outputs": [
    {
     "data": {
      "text/plain": [
       "0.7612382660441059"
      ]
     },
     "execution_count": 57,
     "metadata": {},
     "output_type": "execute_result"
    }
   ],
   "source": [
    "#calculer le score\n",
    "scoring = r2_score(y, y_pred)\n",
    "scoring"
   ]
  },
  {
   "cell_type": "code",
   "execution_count": 76,
   "id": "15fd7eef",
   "metadata": {
    "scrolled": true
   },
   "outputs": [
    {
     "data": {
      "text/plain": [
       "Text(0.5, 1.0, 'Linear_Reg => r2_score : 0.7612382660441059')"
      ]
     },
     "execution_count": 76,
     "metadata": {},
     "output_type": "execute_result"
    },
    {
     "data": {
      "image/png": "[encoded data removed]",
      "text/plain": [
       "<Figure size 432x288 with 1 Axes>"
      ]
     },
     "metadata": {
      "needs_background": "light"
     },
     "output_type": "display_data"
    }
   ],
   "source": [
    "#tracer le model\n",
    "plt.scatter(X, y, color='green')\n",
    "plt.plot(X, y_pred, color='red')\n",
    "plt.title('Linear_Reg => r2_score : 0.7612382660441059')"
   ]
  },
  {
   "cell_type": "markdown",
   "id": "34d422b1",
   "metadata": {},
   "source": [
    "###regression polynomial"
   ]
  },
  {
   "cell_type": "code",
   "execution_count": 65,
   "id": "a9684e63",
   "metadata": {},
   "outputs": [],
   "source": [
    "from sklearn.preprocessing import PolynomialFeatures\n",
    "# transformer nos donnees X a un degree 3\n",
    "poly_reg = PolynomialFeatures(degree = 3)\n",
    "X_poly =  poly_reg.fit_transform(X)"
   ]
  },
  {
   "cell_type": "code",
   "execution_count": 68,
   "id": "a434c78d",
   "metadata": {},
   "outputs": [
    {
     "data": {
      "text/plain": [
       "LinearRegression()"
      ]
     },
     "execution_count": 68,
     "metadata": {},
     "output_type": "execute_result"
    }
   ],
   "source": [
    "model2 = LinearRegression()\n",
    "model2.fit(X_poly, y)"
   ]
  },
  {
   "cell_type": "code",
   "execution_count": 71,
   "id": "4297181d",
   "metadata": {},
   "outputs": [
    {
     "data": {
      "text/plain": [
       "0.8835769372123712"
      ]
     },
     "execution_count": 71,
     "metadata": {},
     "output_type": "execute_result"
    }
   ],
   "source": [
    "y_pred2 = model2.predict(X_poly)\n",
    "scoring2 = r2_score(y, y_pred2)\n",
    "scoring2"
   ]
  },
  {
   "cell_type": "code",
   "execution_count": 77,
   "id": "9bffd744",
   "metadata": {},
   "outputs": [
    {
     "data": {
      "text/plain": [
       "Text(0.5, 1.0, 'Polynomial_Regression => r2_score : 0.8835769372123712')"
      ]
     },
     "execution_count": 77,
     "metadata": {},
     "output_type": "execute_result"
    },
    {
     "data": {
      "image/png": "[encoded data removed]",
      "text/plain": [
       "<Figure size 432x288 with 1 Axes>"
      ]
     },
     "metadata": {
      "needs_background": "light"
     },
     "output_type": "display_data"
    }
   ],
   "source": [
    "#tracer le model1 et 2\n",
    "plt.scatter(X, y, color='green')\n",
    "plt.plot(X, y_pred, color='red')\n",
    "plt.plot(X, y_pred2, color='blue')\n",
    "plt.title('Polynomial_Regression => r2_score : 0.8835769372123712')"
   ]
  },
  {
   "cell_type": "code",
   "execution_count": 85,
   "id": "a008088f",
   "metadata": {},
   "outputs": [
    {
     "data": {
      "text/plain": [
       "[<matplotlib.lines.Line2D at 0x222e0020c10>]"
      ]
     },
     "execution_count": 85,
     "metadata": {},
     "output_type": "execute_result"
    },
    {
     "data": {
      "image/png": "[encoded data removed]",
      "text/plain": [
       "<Figure size 432x288 with 1 Axes>"
      ]
     },
     "metadata": {
      "needs_background": "light"
     },
     "output_type": "display_data"
    }
   ],
   "source": [
    "liste = []\n",
    "for s in range(1,10):\n",
    "    poly_reg = PolynomialFeatures(degree = s)\n",
    "    X_poly =  poly_reg.fit_transform(X)\n",
    "    model2 = LinearRegression()\n",
    "    model2.fit(X_poly, y)\n",
    "    y_pred2 = model2.predict(X_poly)\n",
    "    scoring2 = r2_score(y, y_pred2)\n",
    "    liste.append(scoring2)\n",
    "plt.plot(liste)\n"
   ]
  },
  {
   "cell_type": "code",
   "execution_count": 86,
   "id": "550fedb1",
   "metadata": {},
   "outputs": [],
   "source": [
    "#d'apres la coubre il ya donc une limite a l'apprentissage"
   ]
  },
  {
   "cell_type": "code",
   "execution_count": 98,
   "id": "3d59c8ca",
   "metadata": {},
   "outputs": [
    {
     "data": {
      "text/plain": [
       "array([1.60504775, 1.6636514 , 1.72375245, 1.78537519, 1.8485441 ,\n",
       "       1.91328381])"
      ]
     },
     "execution_count": 98,
     "metadata": {},
     "output_type": "execute_result"
    }
   ],
   "source": [
    "annee = np.array([2021, 2022, 2023, 2024, 2025, 2026])\n",
    "prediction = poly_reg.fit_transform([[2021], [2022], [2023], [2024], [2025], [2026]])\n",
    "temp = model2.predict(prediction)\n",
    "temp"
   ]
  },
  {
   "cell_type": "code",
   "execution_count": 97,
   "id": "82c882fa",
   "metadata": {},
   "outputs": [
    {
     "data": {
      "text/plain": [
       "<matplotlib.collections.PathCollection at 0x222e114f550>"
      ]
     },
     "execution_count": 97,
     "metadata": {},
     "output_type": "execute_result"
    },
    {
     "data": {
      "image/png": "[encoded data removed]",
      "text/plain": [
       "<Figure size 432x288 with 1 Axes>"
      ]
     },
     "metadata": {
      "needs_background": "light"
     },
     "output_type": "display_data"
    }
   ],
   "source": [
    "plt.scatter(annee, temp)"
   ]
  },
  {
   "cell_type": "code",
   "execution_count": null,
   "id": "d34ed5ac",
   "metadata": {},
   "outputs": [],
   "source": []
  }
 ],
 "metadata": {
  "kernelspec": {
   "display_name": "Python 3",
   "language": "python",
   "name": "python3"
  },
  "language_info": {
   "codemirror_mode": {
    "name": "ipython",
    "version": 3
   },
   "file_extension": ".py",
   "mimetype": "text/x-python",
   "name": "python",
   "nbconvert_exporter": "python",
   "pygments_lexer": "ipython3",
   "version": "3.8.8"
  }
 },
 "nbformat": 4,
 "nbformat_minor": 5
}
