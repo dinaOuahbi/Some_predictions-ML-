{
 "cells": [
  {
   "cell_type": "code",
   "execution_count": 5,
   "id": "c022a7b8",
   "metadata": {},
   "outputs": [],
   "source": [
    "import numpy as np "
   ]
  },
  {
   "cell_type": "markdown",
   "id": "49738821",
   "metadata": {},
   "source": [
    "LES CONSTRUCTEURS"
   ]
  },
  {
   "cell_type": "code",
   "execution_count": 6,
   "id": "a8291b1d",
   "metadata": {},
   "outputs": [
    {
     "data": {
      "text/plain": [
       "array([1, 2, 3, 4, 5, 6, 7, 8, 9])"
      ]
     },
     "execution_count": 6,
     "metadata": {},
     "output_type": "execute_result"
    }
   ],
   "source": [
    "a= np.array([1,2,3,4,5,6,7,8,9])\n",
    "a"
   ]
  },
  {
   "cell_type": "code",
   "execution_count": 7,
   "id": "ee18cd8d",
   "metadata": {},
   "outputs": [
    {
     "data": {
      "text/plain": [
       "array([[0., 0., 0., 0.],\n",
       "       [0., 0., 0., 0.],\n",
       "       [0., 0., 0., 0.]])"
      ]
     },
     "execution_count": 7,
     "metadata": {},
     "output_type": "execute_result"
    }
   ],
   "source": [
    "b = np.zeros((3,4))\n",
    "b"
   ]
  },
  {
   "cell_type": "code",
   "execution_count": 8,
   "id": "4898db4c",
   "metadata": {},
   "outputs": [
    {
     "data": {
      "text/plain": [
       "array([[1., 1., 1., 1., 1.],\n",
       "       [1., 1., 1., 1., 1.],\n",
       "       [1., 1., 1., 1., 1.],\n",
       "       [1., 1., 1., 1., 1.]])"
      ]
     },
     "execution_count": 8,
     "metadata": {},
     "output_type": "execute_result"
    }
   ],
   "source": [
    "c = np.ones((4,5))\n",
    "c"
   ]
  },
  {
   "cell_type": "code",
   "execution_count": 9,
   "id": "9d060e9a",
   "metadata": {},
   "outputs": [],
   "source": [
    "#renvoie une liste de nombres entiers de 1 a 59\n",
    "l = np.arange(1,60)"
   ]
  },
  {
   "cell_type": "markdown",
   "id": "281d1919",
   "metadata": {},
   "source": [
    "THE MOST FAMOUS ATTRIBUTE"
   ]
  },
  {
   "cell_type": "code",
   "execution_count": 10,
   "id": "d4fe8be5",
   "metadata": {},
   "outputs": [
    {
     "data": {
      "text/plain": [
       "(4, 5)"
      ]
     },
     "execution_count": 10,
     "metadata": {},
     "output_type": "execute_result"
    }
   ],
   "source": [
    "c.shape"
   ]
  },
  {
   "cell_type": "code",
   "execution_count": 11,
   "id": "a561032b",
   "metadata": {},
   "outputs": [
    {
     "data": {
      "text/plain": [
       "20"
      ]
     },
     "execution_count": 11,
     "metadata": {},
     "output_type": "execute_result"
    }
   ],
   "source": [
    "c.size"
   ]
  },
  {
   "cell_type": "markdown",
   "id": "3ae0e416",
   "metadata": {},
   "source": [
    "#_________________________________________________________________________________________________________________"
   ]
  },
  {
   "cell_type": "code",
   "execution_count": 12,
   "id": "b311a068",
   "metadata": {},
   "outputs": [
    {
     "data": {
      "text/plain": [
       "array([[ 0.08407446, -0.48902131,  0.9344611 , -0.72096288, -0.02147807,\n",
       "        -0.17600459, -0.01629189,  0.55384051,  2.13722012,  1.21165608],\n",
       "       [-0.1732423 ,  0.09057699,  0.57035374, -0.43997405, -0.43451853,\n",
       "         3.25748597, -0.84736029, -0.25767543, -3.03631939,  1.82636591],\n",
       "       [-0.55809323,  0.02627829,  0.78792753,  0.98673109,  0.1246545 ,\n",
       "         0.78053821, -0.44018464,  0.10953618,  1.08508448,  0.81290749],\n",
       "       [-0.59703625,  1.30120892, -0.56229422, -0.42878547, -1.01429245,\n",
       "        -0.08772336,  0.6447964 , -0.65726666, -0.53257401, -0.88678009],\n",
       "       [ 0.29036256,  0.07119762,  0.33319677,  1.24395987,  0.13711513,\n",
       "        -0.3872385 , -1.16074362,  1.01601688,  0.84037968,  0.71126137],\n",
       "       [-0.46839936,  1.61334002, -1.21033468,  0.26723589,  0.16850808,\n",
       "         0.77906693,  0.90222161, -0.92233419, -1.48107721,  0.57197206],\n",
       "       [-0.09551624, -1.18959171,  0.14396455,  1.7919142 ,  1.85886233,\n",
       "        -0.44798788, -0.56715845,  1.1104448 ,  0.61076449,  1.0446268 ],\n",
       "       [ 0.4257327 , -0.12928288, -1.22980917, -0.88044124,  1.08161567,\n",
       "         1.56331037,  0.72660057,  1.96169515, -0.77521984, -0.02869928],\n",
       "       [-0.03269706,  0.69522714,  0.37366399,  0.66402969, -1.16710536,\n",
       "        -0.91619244, -1.04267325, -1.34217936,  0.23075516,  0.695038  ],\n",
       "       [ 0.52306255, -1.77636429, -0.03101972, -0.98941899, -0.85369826,\n",
       "         1.40840096, -1.07888082, -1.56538177, -0.26676014, -0.23213596]])"
      ]
     },
     "execution_count": 12,
     "metadata": {},
     "output_type": "execute_result"
    }
   ],
   "source": [
    "d = np.random.randn(10,10)\n",
    "d"
   ]
  },
  {
   "cell_type": "code",
   "execution_count": 13,
   "id": "116dee0e",
   "metadata": {},
   "outputs": [
    {
     "data": {
      "text/plain": [
       "array([[ 1.62434536, -0.61175641, -0.52817175, -1.07296862,  0.86540763,\n",
       "        -2.3015387 ,  1.74481176, -0.7612069 ,  0.3190391 , -0.24937038],\n",
       "       [ 1.46210794, -2.06014071, -0.3224172 , -0.38405435,  1.13376944,\n",
       "        -1.09989127, -0.17242821, -0.87785842,  0.04221375,  0.58281521],\n",
       "       [-1.10061918,  1.14472371,  0.90159072,  0.50249434,  0.90085595,\n",
       "        -0.68372786, -0.12289023, -0.93576943, -0.26788808,  0.53035547],\n",
       "       [-0.69166075, -0.39675353, -0.6871727 , -0.84520564, -0.67124613,\n",
       "        -0.0126646 , -1.11731035,  0.2344157 ,  1.65980218,  0.74204416],\n",
       "       [-0.19183555, -0.88762896, -0.74715829,  1.6924546 ,  0.05080775,\n",
       "        -0.63699565,  0.19091548,  2.10025514,  0.12015895,  0.61720311],\n",
       "       [ 0.30017032, -0.35224985, -1.1425182 , -0.34934272, -0.20889423,\n",
       "         0.58662319,  0.83898341,  0.93110208,  0.28558733,  0.88514116],\n",
       "       [-0.75439794,  1.25286816,  0.51292982, -0.29809284,  0.48851815,\n",
       "        -0.07557171,  1.13162939,  1.51981682,  2.18557541, -1.39649634],\n",
       "       [-1.44411381, -0.50446586,  0.16003707,  0.87616892,  0.31563495,\n",
       "        -2.02220122, -0.30620401,  0.82797464,  0.23009474,  0.76201118],\n",
       "       [-0.22232814, -0.20075807,  0.18656139,  0.41005165,  0.19829972,\n",
       "         0.11900865, -0.67066229,  0.37756379,  0.12182127,  1.12948391],\n",
       "       [ 1.19891788,  0.18515642, -0.37528495, -0.63873041,  0.42349435,\n",
       "         0.07734007, -0.34385368,  0.04359686, -0.62000084,  0.69803203]])"
      ]
     },
     "execution_count": 13,
     "metadata": {},
     "output_type": "execute_result"
    }
   ],
   "source": [
    "np.random.seed(1)\n",
    "d = np.random.randn(10,10)\n",
    "d "
   ]
  },
  {
   "cell_type": "markdown",
   "id": "7ab1437d",
   "metadata": {},
   "source": [
    "CONSTRUCTEUR TABLEAU A UNE DIMENTION "
   ]
  },
  {
   "cell_type": "code",
   "execution_count": 14,
   "id": "cea631ac",
   "metadata": {},
   "outputs": [
    {
     "data": {
      "text/plain": [
       "array([ 0.        ,  0.34482759,  0.68965517,  1.03448276,  1.37931034,\n",
       "        1.72413793,  2.06896552,  2.4137931 ,  2.75862069,  3.10344828,\n",
       "        3.44827586,  3.79310345,  4.13793103,  4.48275862,  4.82758621,\n",
       "        5.17241379,  5.51724138,  5.86206897,  6.20689655,  6.55172414,\n",
       "        6.89655172,  7.24137931,  7.5862069 ,  7.93103448,  8.27586207,\n",
       "        8.62068966,  8.96551724,  9.31034483,  9.65517241, 10.        ])"
      ]
     },
     "execution_count": 14,
     "metadata": {},
     "output_type": "execute_result"
    }
   ],
   "source": [
    "e = np.linspace(0, 10, 30)\n",
    "e"
   ]
  },
  {
   "cell_type": "code",
   "execution_count": 15,
   "id": "fd7f921f",
   "metadata": {},
   "outputs": [
    {
     "data": {
      "text/plain": [
       "array([0. , 0.5, 1. , 1.5, 2. , 2.5, 3. , 3.5, 4. , 4.5, 5. , 5.5, 6. ,\n",
       "       6.5, 7. , 7.5, 8. , 8.5, 9. , 9.5])"
      ]
     },
     "execution_count": 15,
     "metadata": {},
     "output_type": "execute_result"
    }
   ],
   "source": [
    "f = np.arange(0,10,0.5)\n",
    "f"
   ]
  },
  {
   "cell_type": "markdown",
   "id": "8bd664a4",
   "metadata": {},
   "source": [
    "FIXER LE NOMBRE DE BIT AUE PRENNENT NOS VALEUR DANS LES TABLEAU\n"
   ]
  },
  {
   "cell_type": "code",
   "execution_count": 16,
   "id": "0120ed2f",
   "metadata": {},
   "outputs": [
    {
     "data": {
      "text/plain": [
       "array([ 0.    ,  0.3447,  0.6895,  1.034 ,  1.379 ,  1.725 ,  2.068 ,\n",
       "        2.414 ,  2.758 ,  3.104 ,  3.45  ,  3.793 ,  4.137 ,  4.484 ,\n",
       "        4.83  ,  5.17  ,  5.516 ,  5.863 ,  6.207 ,  6.55  ,  6.9   ,\n",
       "        7.242 ,  7.586 ,  7.93  ,  8.27  ,  8.62  ,  8.97  ,  9.31  ,\n",
       "        9.66  , 10.    ], dtype=float16)"
      ]
     },
     "execution_count": 16,
     "metadata": {},
     "output_type": "execute_result"
    }
   ],
   "source": [
    "e = np.linspace(0, 10, 30, dtype=np.float16)\n",
    "e"
   ]
  },
  {
   "cell_type": "code",
   "execution_count": 17,
   "id": "f99e8fa1",
   "metadata": {},
   "outputs": [],
   "source": [
    "#on peut le faire avec n'importe quel constructeur de tableau"
   ]
  },
  {
   "cell_type": "markdown",
   "id": "9705f85b",
   "metadata": {},
   "source": [
    "METHODES MANIPULANT LES TABLEAU "
   ]
  },
  {
   "cell_type": "code",
   "execution_count": 18,
   "id": "faa3aa6d",
   "metadata": {},
   "outputs": [],
   "source": [
    "a = np.zeros((5,6))\n",
    "b = np.ones((5,6))"
   ]
  },
  {
   "cell_type": "code",
   "execution_count": 19,
   "id": "83b3b137",
   "metadata": {},
   "outputs": [
    {
     "data": {
      "text/plain": [
       "array([[0., 0., 0., 0., 0., 0., 1., 1., 1., 1., 1., 1.],\n",
       "       [0., 0., 0., 0., 0., 0., 1., 1., 1., 1., 1., 1.],\n",
       "       [0., 0., 0., 0., 0., 0., 1., 1., 1., 1., 1., 1.],\n",
       "       [0., 0., 0., 0., 0., 0., 1., 1., 1., 1., 1., 1.],\n",
       "       [0., 0., 0., 0., 0., 0., 1., 1., 1., 1., 1., 1.]])"
      ]
     },
     "execution_count": 19,
     "metadata": {},
     "output_type": "execute_result"
    }
   ],
   "source": [
    "#pile horizontal\n",
    "np.hstack((a,b))"
   ]
  },
  {
   "cell_type": "code",
   "execution_count": 20,
   "id": "c0ea297b",
   "metadata": {},
   "outputs": [
    {
     "data": {
      "text/plain": [
       "array([[0., 0., 0., 0., 0., 0.],\n",
       "       [0., 0., 0., 0., 0., 0.],\n",
       "       [0., 0., 0., 0., 0., 0.],\n",
       "       [0., 0., 0., 0., 0., 0.],\n",
       "       [0., 0., 0., 0., 0., 0.],\n",
       "       [1., 1., 1., 1., 1., 1.],\n",
       "       [1., 1., 1., 1., 1., 1.],\n",
       "       [1., 1., 1., 1., 1., 1.],\n",
       "       [1., 1., 1., 1., 1., 1.],\n",
       "       [1., 1., 1., 1., 1., 1.]])"
      ]
     },
     "execution_count": 20,
     "metadata": {},
     "output_type": "execute_result"
    }
   ],
   "source": [
    "#pile vertical\n",
    "np.vstack((a,b))"
   ]
  },
  {
   "cell_type": "code",
   "execution_count": 21,
   "id": "2b2a74fd",
   "metadata": {},
   "outputs": [
    {
     "data": {
      "text/plain": [
       "array([[0., 0., 0., 0., 0., 0., 1., 1., 1., 1., 1., 1.],\n",
       "       [0., 0., 0., 0., 0., 0., 1., 1., 1., 1., 1., 1.],\n",
       "       [0., 0., 0., 0., 0., 0., 1., 1., 1., 1., 1., 1.],\n",
       "       [0., 0., 0., 0., 0., 0., 1., 1., 1., 1., 1., 1.],\n",
       "       [0., 0., 0., 0., 0., 0., 1., 1., 1., 1., 1., 1.]])"
      ]
     },
     "execution_count": 21,
     "metadata": {},
     "output_type": "execute_result"
    }
   ],
   "source": [
    "# axis0 = y axis / axis1 = x axis / axis2 = z axis\n",
    "np.concatenate((a,b), axis=1)"
   ]
  },
  {
   "cell_type": "code",
   "execution_count": 22,
   "id": "80c5a466",
   "metadata": {},
   "outputs": [
    {
     "data": {
      "text/plain": [
       "(5, 6)"
      ]
     },
     "execution_count": 22,
     "metadata": {},
     "output_type": "execute_result"
    }
   ],
   "source": [
    "a.shape"
   ]
  },
  {
   "cell_type": "code",
   "execution_count": 23,
   "id": "52b6407f",
   "metadata": {},
   "outputs": [
    {
     "data": {
      "text/plain": [
       "array([[0., 0., 0.],\n",
       "       [0., 0., 0.],\n",
       "       [0., 0., 0.],\n",
       "       [0., 0., 0.],\n",
       "       [0., 0., 0.],\n",
       "       [0., 0., 0.],\n",
       "       [0., 0., 0.],\n",
       "       [0., 0., 0.],\n",
       "       [0., 0., 0.],\n",
       "       [0., 0., 0.]])"
      ]
     },
     "execution_count": 23,
     "metadata": {},
     "output_type": "execute_result"
    }
   ],
   "source": [
    "#edimentionner notre tableau toute en gardant le meme size\n",
    "a = a.reshape((10, 3))\n",
    "a"
   ]
  },
  {
   "cell_type": "code",
   "execution_count": 24,
   "id": "117f354f",
   "metadata": {},
   "outputs": [
    {
     "data": {
      "text/plain": [
       "array([0., 0., 0., 0., 0., 0., 0., 0., 0., 0., 0., 0., 0., 0., 0., 0., 0.,\n",
       "       0., 0., 0., 0., 0., 0., 0., 0., 0., 0., 0., 0., 0.])"
      ]
     },
     "execution_count": 24,
     "metadata": {},
     "output_type": "execute_result"
    }
   ],
   "source": [
    "#TRANSFORNER UN ARRAY EN UNE LISTE (1d)\n",
    "a.ravel()"
   ]
  },
  {
   "cell_type": "code",
   "execution_count": 26,
   "id": "844677ce",
   "metadata": {},
   "outputs": [
    {
     "data": {
      "text/plain": [
       "array([[0., 0., 0., 0., 0., 0., 0., 0., 0., 0.],\n",
       "       [0., 0., 0., 0., 0., 0., 0., 0., 0., 0.],\n",
       "       [0., 0., 0., 0., 0., 0., 0., 0., 0., 0.]])"
      ]
     },
     "execution_count": 26,
     "metadata": {},
     "output_type": "execute_result"
    }
   ],
   "source": [
    "#transposer le array \n",
    "a.T"
   ]
  },
  {
   "cell_type": "code",
   "execution_count": 32,
   "id": "15130bdf",
   "metadata": {},
   "outputs": [
    {
     "data": {
      "text/plain": [
       "array([ 0.        ,  0.20408163,  0.40816327,  0.6122449 ,  0.81632653,\n",
       "        1.02040816,  1.2244898 ,  1.42857143,  1.63265306,  1.83673469,\n",
       "        2.04081633,  2.24489796,  2.44897959,  2.65306122,  2.85714286,\n",
       "        3.06122449,  3.26530612,  3.46938776,  3.67346939,  3.87755102,\n",
       "        4.08163265,  4.28571429,  4.48979592,  4.69387755,  4.89795918,\n",
       "        5.10204082,  5.30612245,  5.51020408,  5.71428571,  5.91836735,\n",
       "        6.12244898,  6.32653061,  6.53061224,  6.73469388,  6.93877551,\n",
       "        7.14285714,  7.34693878,  7.55102041,  7.75510204,  7.95918367,\n",
       "        8.16326531,  8.36734694,  8.57142857,  8.7755102 ,  8.97959184,\n",
       "        9.18367347,  9.3877551 ,  9.59183673,  9.79591837, 10.        ])"
      ]
     },
     "execution_count": 32,
     "metadata": {},
     "output_type": "execute_result"
    }
   ],
   "source": [
    "lol = np.linspace(0, 10)\n",
    "lol"
   ]
  },
  {
   "cell_type": "code",
   "execution_count": 34,
   "id": "2a8610f8",
   "metadata": {},
   "outputs": [
    {
     "data": {
      "text/plain": [
       "array([0, 1, 2, 3, 4])"
      ]
     },
     "execution_count": 34,
     "metadata": {},
     "output_type": "execute_result"
    }
   ],
   "source": [
    "np.arange(5)"
   ]
  },
  {
   "cell_type": "code",
   "execution_count": 35,
   "id": "49f48635",
   "metadata": {},
   "outputs": [],
   "source": [
    "#construit two matrix with \n",
    "(x,y) = np.meshgrid([1,2,3], [1,2,3])"
   ]
  },
  {
   "cell_type": "code",
   "execution_count": 36,
   "id": "3a336070",
   "metadata": {},
   "outputs": [
    {
     "data": {
      "text/plain": [
       "array([[1, 2, 3],\n",
       "       [1, 2, 3],\n",
       "       [1, 2, 3]])"
      ]
     },
     "execution_count": 36,
     "metadata": {},
     "output_type": "execute_result"
    }
   ],
   "source": [
    "x"
   ]
  },
  {
   "cell_type": "code",
   "execution_count": 37,
   "id": "aae692ec",
   "metadata": {},
   "outputs": [
    {
     "data": {
      "text/plain": [
       "array([[1, 1, 1],\n",
       "       [2, 2, 2],\n",
       "       [3, 3, 3]])"
      ]
     },
     "execution_count": 37,
     "metadata": {},
     "output_type": "execute_result"
    }
   ],
   "source": [
    "y"
   ]
  },
  {
   "cell_type": "code",
   "execution_count": null,
   "id": "df262622",
   "metadata": {},
   "outputs": [],
   "source": []
  }
 ],
 "metadata": {
  "kernelspec": {
   "display_name": "Python 3",
   "language": "python",
   "name": "python3"
  },
  "language_info": {
   "codemirror_mode": {
    "name": "ipython",
    "version": 3
   },
   "file_extension": ".py",
   "mimetype": "text/x-python",
   "name": "python",
   "nbconvert_exporter": "python",
   "pygments_lexer": "ipython3",
   "version": "3.8.8"
  }
 },
 "nbformat": 4,
 "nbformat_minor": 5
}
