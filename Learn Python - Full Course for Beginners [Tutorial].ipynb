{
 "cells": [
  {
   "cell_type": "markdown",
   "id": "4ecc659a",
   "metadata": {},
   "source": [
    "# string\n"
   ]
  },
  {
   "cell_type": "code",
   "execution_count": 2,
   "id": "dda1f0ca",
   "metadata": {
    "scrolled": true
   },
   "outputs": [
    {
     "data": {
      "text/plain": [
       "14"
      ]
     },
     "execution_count": 2,
     "metadata": {},
     "output_type": "execute_result"
    }
   ],
   "source": [
    "phrase = \"Hello verybody\"\n",
    "phrase.lower()\n",
    "phrase.upper()\n",
    "phrase.isupper()\n",
    "len(phrase)\n"
   ]
  },
  {
   "cell_type": "code",
   "execution_count": 3,
   "id": "ea29fb4b",
   "metadata": {},
   "outputs": [
    {
     "data": {
      "text/plain": [
       "2"
      ]
     },
     "execution_count": 3,
     "metadata": {},
     "output_type": "execute_result"
    }
   ],
   "source": [
    "phrase[1]\n",
    "phrase.index('l')"
   ]
  },
  {
   "cell_type": "code",
   "execution_count": 4,
   "id": "3e29fc84",
   "metadata": {},
   "outputs": [
    {
     "data": {
      "text/plain": [
       "'Good morning verybody'"
      ]
     },
     "execution_count": 4,
     "metadata": {},
     "output_type": "execute_result"
    }
   ],
   "source": [
    "phrase.replace(\"Hello\", \"Good morning\")"
   ]
  },
  {
   "cell_type": "markdown",
   "id": "4c05a26e",
   "metadata": {},
   "source": [
    "# numbers"
   ]
  },
  {
   "cell_type": "code",
   "execution_count": 5,
   "id": "c5c70d5d",
   "metadata": {},
   "outputs": [],
   "source": [
    "x, y = 3, 4"
   ]
  },
  {
   "cell_type": "code",
   "execution_count": 6,
   "id": "4a00bd66",
   "metadata": {},
   "outputs": [
    {
     "data": {
      "text/plain": [
       "'3 is my favorite number'"
      ]
     },
     "execution_count": 6,
     "metadata": {},
     "output_type": "execute_result"
    }
   ],
   "source": [
    "str(x)+' is my favorite number'"
   ]
  },
  {
   "cell_type": "code",
   "execution_count": 7,
   "id": "00f31bf3",
   "metadata": {},
   "outputs": [
    {
     "data": {
      "text/plain": [
       "6"
      ]
     },
     "execution_count": 7,
     "metadata": {},
     "output_type": "execute_result"
    }
   ],
   "source": [
    "#functions\n",
    "abs(-x)\n",
    "pow(x,y)\n",
    "max(x, y)\n",
    "min(x,y)\n",
    "round(6.778)\n",
    "round(6.46)"
   ]
  },
  {
   "cell_type": "code",
   "execution_count": 8,
   "id": "e35a0441",
   "metadata": {},
   "outputs": [
    {
     "data": {
      "text/plain": [
       "6"
      ]
     },
     "execution_count": 8,
     "metadata": {},
     "output_type": "execute_result"
    }
   ],
   "source": [
    "from math import *\n",
    "floor(6.778)"
   ]
  },
  {
   "cell_type": "code",
   "execution_count": 9,
   "id": "f8855035",
   "metadata": {},
   "outputs": [
    {
     "data": {
      "text/plain": [
       "7"
      ]
     },
     "execution_count": 9,
     "metadata": {},
     "output_type": "execute_result"
    }
   ],
   "source": [
    "ceil(6.778)"
   ]
  },
  {
   "cell_type": "code",
   "execution_count": 10,
   "id": "d2351950",
   "metadata": {},
   "outputs": [
    {
     "data": {
      "text/plain": [
       "8.18535277187245"
      ]
     },
     "execution_count": 10,
     "metadata": {},
     "output_type": "execute_result"
    }
   ],
   "source": [
    "sqrt(67)"
   ]
  },
  {
   "cell_type": "markdown",
   "id": "3d332464",
   "metadata": {},
   "source": [
    "# input information from users"
   ]
  },
  {
   "cell_type": "code",
   "execution_count": 11,
   "id": "f56b3336",
   "metadata": {},
   "outputs": [
    {
     "name": "stdout",
     "output_type": "stream",
     "text": [
      "\n"
     ]
    },
    {
     "data": {
      "text/plain": [
       "''"
      ]
     },
     "execution_count": 11,
     "metadata": {},
     "output_type": "execute_result"
    }
   ],
   "source": [
    "input()"
   ]
  },
  {
   "cell_type": "code",
   "execution_count": 12,
   "id": "490243e5",
   "metadata": {},
   "outputs": [
    {
     "ename": "KeyboardInterrupt",
     "evalue": "Interrupted by user",
     "output_type": "error",
     "traceback": [
      "\u001b[1;31m---------------------------------------------------------------------------\u001b[0m",
      "\u001b[1;31mKeyboardInterrupt\u001b[0m                         Traceback (most recent call last)",
      "\u001b[1;32m<ipython-input-12-444ba0699c12>\u001b[0m in \u001b[0;36m<module>\u001b[1;34m\u001b[0m\n\u001b[1;32m----> 1\u001b[1;33m \u001b[0mname\u001b[0m \u001b[1;33m=\u001b[0m \u001b[0minput\u001b[0m\u001b[1;33m(\u001b[0m\u001b[1;34m\"Enter your name: \"\u001b[0m\u001b[1;33m)\u001b[0m\u001b[1;33m\u001b[0m\u001b[1;33m\u001b[0m\u001b[0m\n\u001b[0m\u001b[0;32m      2\u001b[0m \u001b[0mage\u001b[0m \u001b[1;33m=\u001b[0m \u001b[0mint\u001b[0m\u001b[1;33m(\u001b[0m\u001b[0minput\u001b[0m\u001b[1;33m(\u001b[0m\u001b[1;34m\"Enter your age: \"\u001b[0m\u001b[1;33m)\u001b[0m\u001b[1;33m)\u001b[0m\u001b[1;33m\u001b[0m\u001b[1;33m\u001b[0m\u001b[0m\n\u001b[0;32m      3\u001b[0m \u001b[1;34m\"Hello {}, your age is {}\"\u001b[0m\u001b[1;33m.\u001b[0m\u001b[0mformat\u001b[0m\u001b[1;33m(\u001b[0m\u001b[0mname\u001b[0m\u001b[1;33m,\u001b[0m \u001b[0mage\u001b[0m\u001b[1;33m)\u001b[0m\u001b[1;33m\u001b[0m\u001b[1;33m\u001b[0m\u001b[0m\n",
      "\u001b[1;32m~\\anaconda3\\lib\\site-packages\\ipykernel\\kernelbase.py\u001b[0m in \u001b[0;36mraw_input\u001b[1;34m(self, prompt)\u001b[0m\n\u001b[0;32m    858\u001b[0m                 \u001b[1;34m\"raw_input was called, but this frontend does not support input requests.\"\u001b[0m\u001b[1;33m\u001b[0m\u001b[1;33m\u001b[0m\u001b[0m\n\u001b[0;32m    859\u001b[0m             )\n\u001b[1;32m--> 860\u001b[1;33m         return self._input_request(str(prompt),\n\u001b[0m\u001b[0;32m    861\u001b[0m             \u001b[0mself\u001b[0m\u001b[1;33m.\u001b[0m\u001b[0m_parent_ident\u001b[0m\u001b[1;33m,\u001b[0m\u001b[1;33m\u001b[0m\u001b[1;33m\u001b[0m\u001b[0m\n\u001b[0;32m    862\u001b[0m             \u001b[0mself\u001b[0m\u001b[1;33m.\u001b[0m\u001b[0m_parent_header\u001b[0m\u001b[1;33m,\u001b[0m\u001b[1;33m\u001b[0m\u001b[1;33m\u001b[0m\u001b[0m\n",
      "\u001b[1;32m~\\anaconda3\\lib\\site-packages\\ipykernel\\kernelbase.py\u001b[0m in \u001b[0;36m_input_request\u001b[1;34m(self, prompt, ident, parent, password)\u001b[0m\n\u001b[0;32m    902\u001b[0m             \u001b[1;32mexcept\u001b[0m \u001b[0mKeyboardInterrupt\u001b[0m\u001b[1;33m:\u001b[0m\u001b[1;33m\u001b[0m\u001b[1;33m\u001b[0m\u001b[0m\n\u001b[0;32m    903\u001b[0m                 \u001b[1;31m# re-raise KeyboardInterrupt, to truncate traceback\u001b[0m\u001b[1;33m\u001b[0m\u001b[1;33m\u001b[0m\u001b[1;33m\u001b[0m\u001b[0m\n\u001b[1;32m--> 904\u001b[1;33m                 \u001b[1;32mraise\u001b[0m \u001b[0mKeyboardInterrupt\u001b[0m\u001b[1;33m(\u001b[0m\u001b[1;34m\"Interrupted by user\"\u001b[0m\u001b[1;33m)\u001b[0m \u001b[1;32mfrom\u001b[0m \u001b[1;32mNone\u001b[0m\u001b[1;33m\u001b[0m\u001b[1;33m\u001b[0m\u001b[0m\n\u001b[0m\u001b[0;32m    905\u001b[0m             \u001b[1;32mexcept\u001b[0m \u001b[0mException\u001b[0m \u001b[1;32mas\u001b[0m \u001b[0me\u001b[0m\u001b[1;33m:\u001b[0m\u001b[1;33m\u001b[0m\u001b[1;33m\u001b[0m\u001b[0m\n\u001b[0;32m    906\u001b[0m                 \u001b[0mself\u001b[0m\u001b[1;33m.\u001b[0m\u001b[0mlog\u001b[0m\u001b[1;33m.\u001b[0m\u001b[0mwarning\u001b[0m\u001b[1;33m(\u001b[0m\u001b[1;34m\"Invalid Message:\"\u001b[0m\u001b[1;33m,\u001b[0m \u001b[0mexc_info\u001b[0m\u001b[1;33m=\u001b[0m\u001b[1;32mTrue\u001b[0m\u001b[1;33m)\u001b[0m\u001b[1;33m\u001b[0m\u001b[1;33m\u001b[0m\u001b[0m\n",
      "\u001b[1;31mKeyboardInterrupt\u001b[0m: Interrupted by user"
     ]
    }
   ],
   "source": [
    "name = input(\"Enter your name: \")\n",
    "age = int(input(\"Enter your age: \"))\n",
    "\"Hello {}, your age is {}\".format(name, age)"
   ]
  },
  {
   "cell_type": "markdown",
   "id": "c4af0ecc",
   "metadata": {},
   "source": [
    "# BUILT A BASIC CALCULATOR"
   ]
  },
  {
   "cell_type": "code",
   "execution_count": null,
   "id": "df6c7e6d",
   "metadata": {},
   "outputs": [],
   "source": [
    "n1 = int(input(\"Enter the first number ===> \"))\n",
    "n2 = int(input(\"Enter the 2nd number ===> \"))\n",
    "res = n1+n2\n",
    "\"Addition ===> \",res"
   ]
  },
  {
   "cell_type": "code",
   "execution_count": null,
   "id": "b3d42fcf",
   "metadata": {},
   "outputs": [],
   "source": [
    "n1 = input(\"Enter the first number ===> \")\n",
    "n2 = input(\"Enter the 2nd number ===> \")\n",
    "res = float(n1) + float(n2)\n",
    "print(\"Addition ===> \",res)"
   ]
  },
  {
   "cell_type": "markdown",
   "id": "8abc5ea0",
   "metadata": {},
   "source": [
    "# mad libs game"
   ]
  },
  {
   "cell_type": "code",
   "execution_count": null,
   "id": "69322a8c",
   "metadata": {},
   "outputs": [],
   "source": [
    "color = input(\"enter a color: \")\n",
    "plural-noun = input(\"enter a Plural_Noun: \")\n",
    "celebraty = input(\"enter a celebraty: \")"
   ]
  },
  {
   "cell_type": "code",
   "execution_count": null,
   "id": "b2778b48",
   "metadata": {},
   "outputs": [],
   "source": [
    "print(\"Rose are \"+color)\n",
    "print(plural-moun+\" are blue\")\n",
    "print(\"I love \"+ celebraty)"
   ]
  },
  {
   "cell_type": "markdown",
   "id": "1e662736",
   "metadata": {},
   "source": [
    "# LISTE"
   ]
  },
  {
   "cell_type": "code",
   "execution_count": null,
   "id": "85d90786",
   "metadata": {},
   "outputs": [],
   "source": [
    "friends = [\"kevin\", \"keren\", \"Jim\", \"oscar\"]\n",
    "#print(friends)\n",
    "\n",
    "#access\n",
    "#print(friends[1:3])\n",
    "\n",
    "#modify\n",
    "friends[1] = \"max\"\n",
    "\n",
    "#add\n",
    "#delete\n",
    "#...\n",
    "\n",
    "#List functions\n",
    "numbers = [1,2,3,4,5,6,7,8,9,10]\n",
    "\n",
    "#append two list\n",
    "friends.extend(numbers)\n",
    "\n",
    "#add\n",
    "friends.append(\"dina\")\n",
    "\n",
    "#add to a particular index\n",
    "friends.insert(1, \"souad\")\n",
    "\n",
    "#remove \n",
    "friends.remove(\"Jim\")\n",
    "\n",
    "#remove everything\n",
    "friends.clear()\n",
    "\n",
    "#pop the last lement \n",
    "#friends.pop()\n",
    "\n",
    "#to acess index\n",
    "#friends.index(\"dina\")\n",
    "\n",
    "#how time\n",
    "friends.count(\"Jim\")\n",
    "\n",
    "#sorting\n",
    "numbers.sort()\n",
    "\n",
    "#reverse the list\n",
    "numbers.reverse()\n",
    "\n",
    "#make copy\n",
    "friends2 = friends.copy()"
   ]
  },
  {
   "cell_type": "markdown",
   "id": "c5d54b5e",
   "metadata": {},
   "source": [
    "# tuple"
   ]
  },
  {
   "cell_type": "code",
   "execution_count": null,
   "id": "db85fab0",
   "metadata": {},
   "outputs": [],
   "source": [
    "#tuple cannot be modify or change \n",
    "\n",
    "tup = (3,4)\n",
    "\n",
    "#print(tup[1])"
   ]
  },
  {
   "cell_type": "markdown",
   "id": "b49e04bf",
   "metadata": {},
   "source": [
    "# functions"
   ]
  },
  {
   "cell_type": "code",
   "execution_count": null,
   "id": "4f2d53f1",
   "metadata": {},
   "outputs": [],
   "source": [
    "def say_hi():\n",
    "    print(\"Hello user\")\n",
    "\n",
    "def Hello(name):\n",
    "    print(\"Hello \"+name)\n",
    "    \n",
    "Hello(\"dina\")"
   ]
  },
  {
   "cell_type": "code",
   "execution_count": null,
   "id": "aba8c8be",
   "metadata": {},
   "outputs": [],
   "source": []
  },
  {
   "cell_type": "code",
   "execution_count": null,
   "id": "4d24ed0e",
   "metadata": {},
   "outputs": [],
   "source": []
  }
 ],
 "metadata": {
  "kernelspec": {
   "display_name": "Python 3",
   "language": "python",
   "name": "python3"
  },
  "language_info": {
   "codemirror_mode": {
    "name": "ipython",
    "version": 3
   },
   "file_extension": ".py",
   "mimetype": "text/x-python",
   "name": "python",
   "nbconvert_exporter": "python",
   "pygments_lexer": "ipython3",
   "version": "3.8.8"
  }
 },
 "nbformat": 4,
 "nbformat_minor": 5
}
