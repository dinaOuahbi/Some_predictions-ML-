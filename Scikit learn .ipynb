{
 "cells": [
  {
   "cell_type": "markdown",
   "id": "888598c1",
   "metadata": {},
   "source": [
    "# Scikit learn"
   ]
  },
  {
   "cell_type": "code",
   "execution_count": 16,
   "id": "b4205fda",
   "metadata": {},
   "outputs": [],
   "source": []
  },
  {
   "cell_type": "code",
   "execution_count": 188,
   "id": "deffdbb3",
   "metadata": {},
   "outputs": [],
   "source": [
    "from sklearn.datasets import load_boston"
   ]
  },
  {
   "cell_type": "code",
   "execution_count": 189,
   "id": "0a890e16",
   "metadata": {},
   "outputs": [],
   "source": [
    "X, y = load_boston(return_X_y=True)"
   ]
  },
  {
   "cell_type": "code",
   "execution_count": 190,
   "id": "c374256a",
   "metadata": {},
   "outputs": [],
   "source": [
    "from sklearn.neighbors import KNeighborsRegressor\n",
    "import matplotlib.pyplot as plt\n",
    "from sklearn.linear_model import LinearRegression\n",
    "from sklearn.preprocessing import StandardScaler\n",
    "from sklearn.pipeline import Pipeline\n",
    "from sklearn.model_selection import GridSearchCV\n",
    "import pandas as pd"
   ]
  },
  {
   "cell_type": "code",
   "execution_count": 191,
   "id": "495052e9",
   "metadata": {},
   "outputs": [],
   "source": [
    "mod = KNeighborsRegressor()\n",
    "\n",
    "pipe = Pipeline([\n",
    "    (\"scale\", StandardScaler()),\n",
    "    (\"model\", KNeighborsRegressor(n_neighbors=1))\n",
    "])"
   ]
  },
  {
   "cell_type": "code",
   "execution_count": 192,
   "id": "d75f6e7d",
   "metadata": {},
   "outputs": [
    {
     "data": {
      "text/plain": [
       "Pipeline(steps=[('scale', StandardScaler()),\n",
       "                ('model', KNeighborsRegressor(n_neighbors=1))])"
      ]
     },
     "execution_count": 192,
     "metadata": {},
     "output_type": "execute_result"
    }
   ],
   "source": [
    "pipe.fit(X, y)"
   ]
  },
  {
   "cell_type": "code",
   "execution_count": 193,
   "id": "a6b93776",
   "metadata": {},
   "outputs": [
    {
     "data": {
      "text/plain": [
       "KNeighborsRegressor()"
      ]
     },
     "execution_count": 193,
     "metadata": {},
     "output_type": "execute_result"
    }
   ],
   "source": [
    "mod.fit(X,y)"
   ]
  },
  {
   "cell_type": "code",
   "execution_count": 194,
   "id": "90890701",
   "metadata": {},
   "outputs": [],
   "source": [
    "pred = pipe.predict(X)"
   ]
  },
  {
   "cell_type": "code",
   "execution_count": 195,
   "id": "945b8737",
   "metadata": {},
   "outputs": [
    {
     "data": {
      "text/plain": [
       "<matplotlib.collections.PathCollection at 0x2a24839da90>"
      ]
     },
     "execution_count": 195,
     "metadata": {},
     "output_type": "execute_result"
    },
    {
     "data": {
      "image/png": "[encoded data removed]",
      "text/plain": [
       "<Figure size 432x288 with 1 Axes>"
      ]
     },
     "metadata": {
      "needs_background": "light"
     },
     "output_type": "display_data"
    }
   ],
   "source": [
    "plt.scatter(pred, y)"
   ]
  },
  {
   "cell_type": "code",
   "execution_count": 196,
   "id": "e8c332f8",
   "metadata": {},
   "outputs": [],
   "source": [
    "mod = GridSearchCV(estimator=pipe,\n",
    "            param_grid={'model__n_neighbors':[1,2,3,4,5,6,7,8,9,10]},\n",
    "            cv=3)"
   ]
  },
  {
   "cell_type": "code",
   "execution_count": 197,
   "id": "5dd24456",
   "metadata": {},
   "outputs": [],
   "source": [
    "#pipe.get_params()"
   ]
  },
  {
   "cell_type": "code",
   "execution_count": 198,
   "id": "da391f95",
   "metadata": {},
   "outputs": [
    {
     "data": {
      "text/html": [
       "<div>\n",
       "<style scoped>\n",
       "    .dataframe tbody tr th:only-of-type {\n",
       "        vertical-align: middle;\n",
       "    }\n",
       "\n",
       "    .dataframe tbody tr th {\n",
       "        vertical-align: top;\n",
       "    }\n",
       "\n",
       "    .dataframe thead th {\n",
       "        text-align: right;\n",
       "    }\n",
       "</style>\n",
       "<table border=\"1\" class=\"dataframe\">\n",
       "  <thead>\n",
       "    <tr style=\"text-align: right;\">\n",
       "      <th></th>\n",
       "      <th>mean_fit_time</th>\n",
       "      <th>std_fit_time</th>\n",
       "      <th>mean_score_time</th>\n",
       "      <th>std_score_time</th>\n",
       "      <th>param_model__n_neighbors</th>\n",
       "      <th>params</th>\n",
       "      <th>split0_test_score</th>\n",
       "      <th>split1_test_score</th>\n",
       "      <th>split2_test_score</th>\n",
       "      <th>mean_test_score</th>\n",
       "      <th>std_test_score</th>\n",
       "      <th>rank_test_score</th>\n",
       "    </tr>\n",
       "  </thead>\n",
       "  <tbody>\n",
       "    <tr>\n",
       "      <th>0</th>\n",
       "      <td>0.002667</td>\n",
       "      <td>3.771188e-03</td>\n",
       "      <td>0.005333</td>\n",
       "      <td>0.003771</td>\n",
       "      <td>1</td>\n",
       "      <td>{'model__n_neighbors': 1}</td>\n",
       "      <td>0.226933</td>\n",
       "      <td>0.432998</td>\n",
       "      <td>0.127635</td>\n",
       "      <td>0.262522</td>\n",
       "      <td>0.127179</td>\n",
       "      <td>10</td>\n",
       "    </tr>\n",
       "    <tr>\n",
       "      <th>1</th>\n",
       "      <td>0.007999</td>\n",
       "      <td>6.532083e-03</td>\n",
       "      <td>0.005334</td>\n",
       "      <td>0.003772</td>\n",
       "      <td>2</td>\n",
       "      <td>{'model__n_neighbors': 2}</td>\n",
       "      <td>0.358216</td>\n",
       "      <td>0.409229</td>\n",
       "      <td>0.172294</td>\n",
       "      <td>0.313246</td>\n",
       "      <td>0.101821</td>\n",
       "      <td>9</td>\n",
       "    </tr>\n",
       "    <tr>\n",
       "      <th>2</th>\n",
       "      <td>0.002678</td>\n",
       "      <td>3.787484e-03</td>\n",
       "      <td>0.005322</td>\n",
       "      <td>0.003763</td>\n",
       "      <td>3</td>\n",
       "      <td>{'model__n_neighbors': 3}</td>\n",
       "      <td>0.413515</td>\n",
       "      <td>0.476651</td>\n",
       "      <td>0.318534</td>\n",
       "      <td>0.402900</td>\n",
       "      <td>0.064986</td>\n",
       "      <td>1</td>\n",
       "    </tr>\n",
       "    <tr>\n",
       "      <th>3</th>\n",
       "      <td>0.008001</td>\n",
       "      <td>6.836514e-07</td>\n",
       "      <td>0.000000</td>\n",
       "      <td>0.000000</td>\n",
       "      <td>4</td>\n",
       "      <td>{'model__n_neighbors': 4}</td>\n",
       "      <td>0.475349</td>\n",
       "      <td>0.402495</td>\n",
       "      <td>0.273014</td>\n",
       "      <td>0.383619</td>\n",
       "      <td>0.083675</td>\n",
       "      <td>7</td>\n",
       "    </tr>\n",
       "    <tr>\n",
       "      <th>4</th>\n",
       "      <td>0.008012</td>\n",
       "      <td>1.534588e-05</td>\n",
       "      <td>0.000000</td>\n",
       "      <td>0.000000</td>\n",
       "      <td>5</td>\n",
       "      <td>{'model__n_neighbors': 5}</td>\n",
       "      <td>0.512318</td>\n",
       "      <td>0.347951</td>\n",
       "      <td>0.262590</td>\n",
       "      <td>0.374286</td>\n",
       "      <td>0.103638</td>\n",
       "      <td>8</td>\n",
       "    </tr>\n",
       "    <tr>\n",
       "      <th>5</th>\n",
       "      <td>0.008001</td>\n",
       "      <td>2.921403e-05</td>\n",
       "      <td>0.000000</td>\n",
       "      <td>0.000000</td>\n",
       "      <td>6</td>\n",
       "      <td>{'model__n_neighbors': 6}</td>\n",
       "      <td>0.533611</td>\n",
       "      <td>0.389504</td>\n",
       "      <td>0.248482</td>\n",
       "      <td>0.390532</td>\n",
       "      <td>0.116406</td>\n",
       "      <td>6</td>\n",
       "    </tr>\n",
       "    <tr>\n",
       "      <th>6</th>\n",
       "      <td>0.007998</td>\n",
       "      <td>3.154122e-05</td>\n",
       "      <td>0.000000</td>\n",
       "      <td>0.000000</td>\n",
       "      <td>7</td>\n",
       "      <td>{'model__n_neighbors': 7}</td>\n",
       "      <td>0.544782</td>\n",
       "      <td>0.385199</td>\n",
       "      <td>0.243668</td>\n",
       "      <td>0.391216</td>\n",
       "      <td>0.123003</td>\n",
       "      <td>5</td>\n",
       "    </tr>\n",
       "    <tr>\n",
       "      <th>7</th>\n",
       "      <td>0.008001</td>\n",
       "      <td>2.562602e-05</td>\n",
       "      <td>0.000000</td>\n",
       "      <td>0.000000</td>\n",
       "      <td>8</td>\n",
       "      <td>{'model__n_neighbors': 8}</td>\n",
       "      <td>0.589644</td>\n",
       "      <td>0.394650</td>\n",
       "      <td>0.209714</td>\n",
       "      <td>0.398003</td>\n",
       "      <td>0.155124</td>\n",
       "      <td>2</td>\n",
       "    </tr>\n",
       "    <tr>\n",
       "      <th>8</th>\n",
       "      <td>0.005321</td>\n",
       "      <td>3.762726e-03</td>\n",
       "      <td>0.002666</td>\n",
       "      <td>0.003770</td>\n",
       "      <td>9</td>\n",
       "      <td>{'model__n_neighbors': 9}</td>\n",
       "      <td>0.590352</td>\n",
       "      <td>0.407556</td>\n",
       "      <td>0.185253</td>\n",
       "      <td>0.394387</td>\n",
       "      <td>0.165643</td>\n",
       "      <td>3</td>\n",
       "    </tr>\n",
       "    <tr>\n",
       "      <th>9</th>\n",
       "      <td>0.000000</td>\n",
       "      <td>0.000000e+00</td>\n",
       "      <td>0.008012</td>\n",
       "      <td>0.000017</td>\n",
       "      <td>10</td>\n",
       "      <td>{'model__n_neighbors': 10}</td>\n",
       "      <td>0.616510</td>\n",
       "      <td>0.395077</td>\n",
       "      <td>0.164023</td>\n",
       "      <td>0.391870</td>\n",
       "      <td>0.184741</td>\n",
       "      <td>4</td>\n",
       "    </tr>\n",
       "  </tbody>\n",
       "</table>\n",
       "</div>"
      ],
      "text/plain": [
       "   mean_fit_time  std_fit_time  mean_score_time  std_score_time  \\\n",
       "0       0.002667  3.771188e-03         0.005333        0.003771   \n",
       "1       0.007999  6.532083e-03         0.005334        0.003772   \n",
       "2       0.002678  3.787484e-03         0.005322        0.003763   \n",
       "3       0.008001  6.836514e-07         0.000000        0.000000   \n",
       "4       0.008012  1.534588e-05         0.000000        0.000000   \n",
       "5       0.008001  2.921403e-05         0.000000        0.000000   \n",
       "6       0.007998  3.154122e-05         0.000000        0.000000   \n",
       "7       0.008001  2.562602e-05         0.000000        0.000000   \n",
       "8       0.005321  3.762726e-03         0.002666        0.003770   \n",
       "9       0.000000  0.000000e+00         0.008012        0.000017   \n",
       "\n",
       "  param_model__n_neighbors                      params  split0_test_score  \\\n",
       "0                        1   {'model__n_neighbors': 1}           0.226933   \n",
       "1                        2   {'model__n_neighbors': 2}           0.358216   \n",
       "2                        3   {'model__n_neighbors': 3}           0.413515   \n",
       "3                        4   {'model__n_neighbors': 4}           0.475349   \n",
       "4                        5   {'model__n_neighbors': 5}           0.512318   \n",
       "5                        6   {'model__n_neighbors': 6}           0.533611   \n",
       "6                        7   {'model__n_neighbors': 7}           0.544782   \n",
       "7                        8   {'model__n_neighbors': 8}           0.589644   \n",
       "8                        9   {'model__n_neighbors': 9}           0.590352   \n",
       "9                       10  {'model__n_neighbors': 10}           0.616510   \n",
       "\n",
       "   split1_test_score  split2_test_score  mean_test_score  std_test_score  \\\n",
       "0           0.432998           0.127635         0.262522        0.127179   \n",
       "1           0.409229           0.172294         0.313246        0.101821   \n",
       "2           0.476651           0.318534         0.402900        0.064986   \n",
       "3           0.402495           0.273014         0.383619        0.083675   \n",
       "4           0.347951           0.262590         0.374286        0.103638   \n",
       "5           0.389504           0.248482         0.390532        0.116406   \n",
       "6           0.385199           0.243668         0.391216        0.123003   \n",
       "7           0.394650           0.209714         0.398003        0.155124   \n",
       "8           0.407556           0.185253         0.394387        0.165643   \n",
       "9           0.395077           0.164023         0.391870        0.184741   \n",
       "\n",
       "   rank_test_score  \n",
       "0               10  \n",
       "1                9  \n",
       "2                1  \n",
       "3                7  \n",
       "4                8  \n",
       "5                6  \n",
       "6                5  \n",
       "7                2  \n",
       "8                3  \n",
       "9                4  "
      ]
     },
     "execution_count": 198,
     "metadata": {},
     "output_type": "execute_result"
    }
   ],
   "source": [
    "mod.fit(X, y)\n",
    "pd.DataFrame(mod.cv_results_)\n"
   ]
  },
  {
   "cell_type": "code",
   "execution_count": 199,
   "id": "9ea8277c",
   "metadata": {},
   "outputs": [
    {
     "name": "stdout",
     "output_type": "stream",
     "text": [
      "data\n",
      "target\n",
      "feature_names\n",
      "DESCR\n",
      "filename\n"
     ]
    }
   ],
   "source": [
    "for key in load_boston():\n",
    "    print(key)"
   ]
  },
  {
   "cell_type": "code",
   "execution_count": 200,
   "id": "b6b5ac32",
   "metadata": {},
   "outputs": [
    {
     "name": "stdout",
     "output_type": "stream",
     "text": [
      ".. _boston_dataset:\n",
      "\n",
      "Boston house prices dataset\n",
      "---------------------------\n",
      "\n",
      "**Data Set Characteristics:**  \n",
      "\n",
      "    :Number of Instances: 506 \n",
      "\n",
      "    :Number of Attributes: 13 numeric/categorical predictive. Median Value (attribute 14) is usually the target.\n",
      "\n",
      "    :Attribute Information (in order):\n",
      "        - CRIM     per capita crime rate by town\n",
      "        - ZN       proportion of residential land zoned for lots over 25,000 sq.ft.\n",
      "        - INDUS    proportion of non-retail business acres per town\n",
      "        - CHAS     Charles River dummy variable (= 1 if tract bounds river; 0 otherwise)\n",
      "        - NOX      nitric oxides concentration (parts per 10 million)\n",
      "        - RM       average number of rooms per dwelling\n",
      "        - AGE      proportion of owner-occupied units built prior to 1940\n",
      "        - DIS      weighted distances to five Boston employment centres\n",
      "        - RAD      index of accessibility to radial highways\n",
      "        - TAX      full-value property-tax rate per $10,000\n",
      "        - PTRATIO  pupil-teacher ratio by town\n",
      "        - B        1000(Bk - 0.63)^2 where Bk is the proportion of blacks by town\n",
      "        - LSTAT    % lower status of the population\n",
      "        - MEDV     Median value of owner-occupied homes in $1000's\n",
      "\n",
      "    :Missing Attribute Values: None\n",
      "\n",
      "    :Creator: Harrison, D. and Rubinfeld, D.L.\n",
      "\n",
      "This is a copy of UCI ML housing dataset.\n",
      "https://archive.ics.uci.edu/ml/machine-learning-databases/housing/\n",
      "\n",
      "\n",
      "This dataset was taken from the StatLib library which is maintained at Carnegie Mellon University.\n",
      "\n",
      "The Boston house-price data of Harrison, D. and Rubinfeld, D.L. 'Hedonic\n",
      "prices and the demand for clean air', J. Environ. Economics & Management,\n",
      "vol.5, 81-102, 1978.   Used in Belsley, Kuh & Welsch, 'Regression diagnostics\n",
      "...', Wiley, 1980.   N.B. Various transformations are used in the table on\n",
      "pages 244-261 of the latter.\n",
      "\n",
      "The Boston house-price data has been used in many machine learning papers that address regression\n",
      "problems.   \n",
      "     \n",
      ".. topic:: References\n",
      "\n",
      "   - Belsley, Kuh & Welsch, 'Regression diagnostics: Identifying Influential Data and Sources of Collinearity', Wiley, 1980. 244-261.\n",
      "   - Quinlan,R. (1993). Combining Instance-Based and Model-Based Learning. In Proceedings on the Tenth International Conference of Machine Learning, 236-243, University of Massachusetts, Amherst. Morgan Kaufmann.\n",
      "\n"
     ]
    }
   ],
   "source": [
    "print(load_boston()['DESCR'])"
   ]
  },
  {
   "cell_type": "code",
   "execution_count": 201,
   "id": "6f73e30e",
   "metadata": {},
   "outputs": [],
   "source": [
    "df = pd.DataFrame(data=X, columns=load_boston()['feature_names'])\n"
   ]
  },
  {
   "cell_type": "code",
   "execution_count": 202,
   "id": "d5bb83ee",
   "metadata": {},
   "outputs": [],
   "source": [
    "df['PRICE'] = y"
   ]
  },
  {
   "cell_type": "code",
   "execution_count": 203,
   "id": "123db54f",
   "metadata": {},
   "outputs": [
    {
     "name": "stdout",
     "output_type": "stream",
     "text": [
      "(506, 14)\n"
     ]
    }
   ],
   "source": [
    "print(df.shape)"
   ]
  },
  {
   "cell_type": "code",
   "execution_count": 204,
   "id": "9b2e2ee3",
   "metadata": {},
   "outputs": [
    {
     "data": {
      "text/plain": [
       "<matplotlib.collections.PathCollection at 0x2a245a0d190>"
      ]
     },
     "execution_count": 204,
     "metadata": {},
     "output_type": "execute_result"
    },
    {
     "data": {
      "image/png": "[encoded data removed]",
      "text/plain": [
       "<Figure size 432x288 with 1 Axes>"
      ]
     },
     "metadata": {
      "needs_background": "light"
     },
     "output_type": "display_data"
    }
   ],
   "source": [
    "plt.scatter(df['PRICE'], df['B'])"
   ]
  },
  {
   "cell_type": "code",
   "execution_count": 205,
   "id": "44f352d0",
   "metadata": {},
   "outputs": [],
   "source": [
    "from sklearn.preprocessing import quantile_transform"
   ]
  },
  {
   "cell_type": "code",
   "execution_count": 206,
   "id": "7a00e9ef",
   "metadata": {},
   "outputs": [
    {
     "data": {
      "text/html": [
       "<div>\n",
       "<style scoped>\n",
       "    .dataframe tbody tr th:only-of-type {\n",
       "        vertical-align: middle;\n",
       "    }\n",
       "\n",
       "    .dataframe tbody tr th {\n",
       "        vertical-align: top;\n",
       "    }\n",
       "\n",
       "    .dataframe thead th {\n",
       "        text-align: right;\n",
       "    }\n",
       "</style>\n",
       "<table border=\"1\" class=\"dataframe\">\n",
       "  <thead>\n",
       "    <tr style=\"text-align: right;\">\n",
       "      <th></th>\n",
       "      <th>CRIM</th>\n",
       "      <th>ZN</th>\n",
       "      <th>INDUS</th>\n",
       "      <th>CHAS</th>\n",
       "      <th>NOX</th>\n",
       "      <th>RM</th>\n",
       "      <th>AGE</th>\n",
       "      <th>DIS</th>\n",
       "      <th>RAD</th>\n",
       "      <th>TAX</th>\n",
       "      <th>PTRATIO</th>\n",
       "      <th>B</th>\n",
       "      <th>LSTAT</th>\n",
       "      <th>PRICE</th>\n",
       "    </tr>\n",
       "  </thead>\n",
       "  <tbody>\n",
       "    <tr>\n",
       "      <th>0</th>\n",
       "      <td>0.00632</td>\n",
       "      <td>18.0</td>\n",
       "      <td>2.31</td>\n",
       "      <td>0.0</td>\n",
       "      <td>0.538</td>\n",
       "      <td>6.575</td>\n",
       "      <td>65.2</td>\n",
       "      <td>4.0900</td>\n",
       "      <td>1.0</td>\n",
       "      <td>296.0</td>\n",
       "      <td>15.3</td>\n",
       "      <td>396.90</td>\n",
       "      <td>4.98</td>\n",
       "      <td>24.0</td>\n",
       "    </tr>\n",
       "    <tr>\n",
       "      <th>1</th>\n",
       "      <td>0.02731</td>\n",
       "      <td>0.0</td>\n",
       "      <td>7.07</td>\n",
       "      <td>0.0</td>\n",
       "      <td>0.469</td>\n",
       "      <td>6.421</td>\n",
       "      <td>78.9</td>\n",
       "      <td>4.9671</td>\n",
       "      <td>2.0</td>\n",
       "      <td>242.0</td>\n",
       "      <td>17.8</td>\n",
       "      <td>396.90</td>\n",
       "      <td>9.14</td>\n",
       "      <td>21.6</td>\n",
       "    </tr>\n",
       "    <tr>\n",
       "      <th>2</th>\n",
       "      <td>0.02729</td>\n",
       "      <td>0.0</td>\n",
       "      <td>7.07</td>\n",
       "      <td>0.0</td>\n",
       "      <td>0.469</td>\n",
       "      <td>7.185</td>\n",
       "      <td>61.1</td>\n",
       "      <td>4.9671</td>\n",
       "      <td>2.0</td>\n",
       "      <td>242.0</td>\n",
       "      <td>17.8</td>\n",
       "      <td>392.83</td>\n",
       "      <td>4.03</td>\n",
       "      <td>34.7</td>\n",
       "    </tr>\n",
       "    <tr>\n",
       "      <th>3</th>\n",
       "      <td>0.03237</td>\n",
       "      <td>0.0</td>\n",
       "      <td>2.18</td>\n",
       "      <td>0.0</td>\n",
       "      <td>0.458</td>\n",
       "      <td>6.998</td>\n",
       "      <td>45.8</td>\n",
       "      <td>6.0622</td>\n",
       "      <td>3.0</td>\n",
       "      <td>222.0</td>\n",
       "      <td>18.7</td>\n",
       "      <td>394.63</td>\n",
       "      <td>2.94</td>\n",
       "      <td>33.4</td>\n",
       "    </tr>\n",
       "    <tr>\n",
       "      <th>4</th>\n",
       "      <td>0.06905</td>\n",
       "      <td>0.0</td>\n",
       "      <td>2.18</td>\n",
       "      <td>0.0</td>\n",
       "      <td>0.458</td>\n",
       "      <td>7.147</td>\n",
       "      <td>54.2</td>\n",
       "      <td>6.0622</td>\n",
       "      <td>3.0</td>\n",
       "      <td>222.0</td>\n",
       "      <td>18.7</td>\n",
       "      <td>396.90</td>\n",
       "      <td>5.33</td>\n",
       "      <td>36.2</td>\n",
       "    </tr>\n",
       "  </tbody>\n",
       "</table>\n",
       "</div>"
      ],
      "text/plain": [
       "      CRIM    ZN  INDUS  CHAS    NOX     RM   AGE     DIS  RAD    TAX  \\\n",
       "0  0.00632  18.0   2.31   0.0  0.538  6.575  65.2  4.0900  1.0  296.0   \n",
       "1  0.02731   0.0   7.07   0.0  0.469  6.421  78.9  4.9671  2.0  242.0   \n",
       "2  0.02729   0.0   7.07   0.0  0.469  7.185  61.1  4.9671  2.0  242.0   \n",
       "3  0.03237   0.0   2.18   0.0  0.458  6.998  45.8  6.0622  3.0  222.0   \n",
       "4  0.06905   0.0   2.18   0.0  0.458  7.147  54.2  6.0622  3.0  222.0   \n",
       "\n",
       "   PTRATIO       B  LSTAT  PRICE  \n",
       "0     15.3  396.90   4.98   24.0  \n",
       "1     17.8  396.90   9.14   21.6  \n",
       "2     17.8  392.83   4.03   34.7  \n",
       "3     18.7  394.63   2.94   33.4  \n",
       "4     18.7  396.90   5.33   36.2  "
      ]
     },
     "execution_count": 206,
     "metadata": {},
     "output_type": "execute_result"
    }
   ],
   "source": [
    "#df.isna().sum()/df.shape[0]\n",
    "df.head()"
   ]
  },
  {
   "cell_type": "markdown",
   "id": "7fd425b5",
   "metadata": {},
   "source": [
    "# PREPROCESSING\n"
   ]
  },
  {
   "cell_type": "raw",
   "id": "ca4b9f31",
   "metadata": {},
   "source": [
    "whene x-axis and y-axis are not in the same scale, we use StandardScaler to scale our data\n",
    "\n",
    "for each column : X-mean(X)/sqrt(var)"
   ]
  },
  {
   "cell_type": "code",
   "execution_count": 209,
   "id": "160b21ca",
   "metadata": {},
   "outputs": [
    {
     "data": {
      "text/plain": [
       "<matplotlib.collections.PathCollection at 0x2a248510760>"
      ]
     },
     "execution_count": 209,
     "metadata": {},
     "output_type": "execute_result"
    },
    {
     "data": {
      "image/png": "[encoded data removed]",
      "text/plain": [
       "<Figure size 432x288 with 1 Axes>"
      ]
     },
     "metadata": {
      "needs_background": "light"
     },
     "output_type": "display_data"
    }
   ],
   "source": [
    "#without any transformation \n",
    "plt.scatter(df['ZN'], df['NOX'], c=df['PRICE'])"
   ]
  },
  {
   "cell_type": "code",
   "execution_count": null,
   "id": "e828dff1",
   "metadata": {},
   "outputs": [],
   "source": []
  },
  {
   "cell_type": "code",
   "execution_count": null,
   "id": "184b6581",
   "metadata": {},
   "outputs": [],
   "source": []
  },
  {
   "cell_type": "code",
   "execution_count": null,
   "id": "5e9d5aa7",
   "metadata": {},
   "outputs": [],
   "source": []
  },
  {
   "cell_type": "code",
   "execution_count": null,
   "id": "f28c44cf",
   "metadata": {},
   "outputs": [],
   "source": [
    "\n"
   ]
  }
 ],
 "metadata": {
  "kernelspec": {
   "display_name": "Python 3",
   "language": "python",
   "name": "python3"
  },
  "language_info": {
   "codemirror_mode": {
    "name": "ipython",
    "version": 3
   },
   "file_extension": ".py",
   "mimetype": "text/x-python",
   "name": "python",
   "nbconvert_exporter": "python",
   "pygments_lexer": "ipython3",
   "version": "3.8.8"
  }
 },
 "nbformat": 4,
 "nbformat_minor": 5
}
